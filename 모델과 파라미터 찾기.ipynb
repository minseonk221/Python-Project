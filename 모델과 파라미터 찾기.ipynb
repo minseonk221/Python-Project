{
 "cells": [
  {
   "cell_type": "code",
   "execution_count": 197,
   "metadata": {},
   "outputs": [],
   "source": [
    "import pandas as pd\n",
    "import numpy as np\n",
    "import seaborn as sns\n",
    "import matplotlib.pyplot as plt\n",
    "\n",
    "%matplotlib inline"
   ]
  },
  {
   "cell_type": "code",
   "execution_count": 198,
   "metadata": {},
   "outputs": [
    {
     "data": {
      "text/plain": [
       "(768, 16)"
      ]
     },
     "execution_count": 198,
     "metadata": {},
     "output_type": "execute_result"
    }
   ],
   "source": [
    "df = pd.read_csv(\"data/diabetes_feature.csv\")\n",
    "df.shape"
   ]
  },
  {
   "cell_type": "code",
   "execution_count": 199,
   "metadata": {
    "scrolled": false
   },
   "outputs": [
    {
     "data": {
      "text/html": [
       "<div>\n",
       "<style scoped>\n",
       "    .dataframe tbody tr th:only-of-type {\n",
       "        vertical-align: middle;\n",
       "    }\n",
       "\n",
       "    .dataframe tbody tr th {\n",
       "        vertical-align: top;\n",
       "    }\n",
       "\n",
       "    .dataframe thead th {\n",
       "        text-align: right;\n",
       "    }\n",
       "</style>\n",
       "<table border=\"1\" class=\"dataframe\">\n",
       "  <thead>\n",
       "    <tr style=\"text-align: right;\">\n",
       "      <th></th>\n",
       "      <th>Pregnancies</th>\n",
       "      <th>Glucose</th>\n",
       "      <th>BloodPressure</th>\n",
       "      <th>SkinThickness</th>\n",
       "      <th>Insulin</th>\n",
       "      <th>BMI</th>\n",
       "      <th>DiabetesPedigreeFunction</th>\n",
       "      <th>Age</th>\n",
       "      <th>Outcome</th>\n",
       "      <th>Pregnancies_high</th>\n",
       "      <th>Age_low</th>\n",
       "      <th>Age_middle</th>\n",
       "      <th>Age_high</th>\n",
       "      <th>Insulin_nan</th>\n",
       "      <th>Insulin_log</th>\n",
       "      <th>low_glu_insulin</th>\n",
       "    </tr>\n",
       "  </thead>\n",
       "  <tbody>\n",
       "    <tr>\n",
       "      <th>0</th>\n",
       "      <td>6</td>\n",
       "      <td>148</td>\n",
       "      <td>72</td>\n",
       "      <td>35</td>\n",
       "      <td>0</td>\n",
       "      <td>33.6</td>\n",
       "      <td>0.627</td>\n",
       "      <td>50</td>\n",
       "      <td>1</td>\n",
       "      <td>False</td>\n",
       "      <td>False</td>\n",
       "      <td>True</td>\n",
       "      <td>False</td>\n",
       "      <td>206.0</td>\n",
       "      <td>5.332719</td>\n",
       "      <td>False</td>\n",
       "    </tr>\n",
       "    <tr>\n",
       "      <th>1</th>\n",
       "      <td>1</td>\n",
       "      <td>85</td>\n",
       "      <td>66</td>\n",
       "      <td>29</td>\n",
       "      <td>0</td>\n",
       "      <td>26.6</td>\n",
       "      <td>0.351</td>\n",
       "      <td>31</td>\n",
       "      <td>0</td>\n",
       "      <td>False</td>\n",
       "      <td>False</td>\n",
       "      <td>True</td>\n",
       "      <td>False</td>\n",
       "      <td>130.0</td>\n",
       "      <td>4.875197</td>\n",
       "      <td>False</td>\n",
       "    </tr>\n",
       "    <tr>\n",
       "      <th>2</th>\n",
       "      <td>8</td>\n",
       "      <td>183</td>\n",
       "      <td>64</td>\n",
       "      <td>0</td>\n",
       "      <td>0</td>\n",
       "      <td>23.3</td>\n",
       "      <td>0.672</td>\n",
       "      <td>32</td>\n",
       "      <td>1</td>\n",
       "      <td>True</td>\n",
       "      <td>False</td>\n",
       "      <td>True</td>\n",
       "      <td>False</td>\n",
       "      <td>206.0</td>\n",
       "      <td>5.332719</td>\n",
       "      <td>False</td>\n",
       "    </tr>\n",
       "    <tr>\n",
       "      <th>3</th>\n",
       "      <td>1</td>\n",
       "      <td>89</td>\n",
       "      <td>66</td>\n",
       "      <td>23</td>\n",
       "      <td>94</td>\n",
       "      <td>28.1</td>\n",
       "      <td>0.167</td>\n",
       "      <td>21</td>\n",
       "      <td>0</td>\n",
       "      <td>False</td>\n",
       "      <td>True</td>\n",
       "      <td>False</td>\n",
       "      <td>False</td>\n",
       "      <td>94.0</td>\n",
       "      <td>4.553877</td>\n",
       "      <td>True</td>\n",
       "    </tr>\n",
       "    <tr>\n",
       "      <th>4</th>\n",
       "      <td>0</td>\n",
       "      <td>137</td>\n",
       "      <td>40</td>\n",
       "      <td>35</td>\n",
       "      <td>168</td>\n",
       "      <td>43.1</td>\n",
       "      <td>2.288</td>\n",
       "      <td>33</td>\n",
       "      <td>1</td>\n",
       "      <td>False</td>\n",
       "      <td>False</td>\n",
       "      <td>True</td>\n",
       "      <td>False</td>\n",
       "      <td>168.0</td>\n",
       "      <td>5.129899</td>\n",
       "      <td>False</td>\n",
       "    </tr>\n",
       "  </tbody>\n",
       "</table>\n",
       "</div>"
      ],
      "text/plain": [
       "   Pregnancies  Glucose  BloodPressure  SkinThickness  Insulin   BMI  \\\n",
       "0            6      148             72             35        0  33.6   \n",
       "1            1       85             66             29        0  26.6   \n",
       "2            8      183             64              0        0  23.3   \n",
       "3            1       89             66             23       94  28.1   \n",
       "4            0      137             40             35      168  43.1   \n",
       "\n",
       "   DiabetesPedigreeFunction  Age  Outcome  Pregnancies_high  Age_low  \\\n",
       "0                     0.627   50        1             False    False   \n",
       "1                     0.351   31        0             False    False   \n",
       "2                     0.672   32        1              True    False   \n",
       "3                     0.167   21        0             False     True   \n",
       "4                     2.288   33        1             False    False   \n",
       "\n",
       "   Age_middle  Age_high  Insulin_nan  Insulin_log  low_glu_insulin  \n",
       "0        True     False        206.0     5.332719            False  \n",
       "1        True     False        130.0     4.875197            False  \n",
       "2        True     False        206.0     5.332719            False  \n",
       "3       False     False         94.0     4.553877             True  \n",
       "4        True     False        168.0     5.129899            False  "
      ]
     },
     "execution_count": 199,
     "metadata": {},
     "output_type": "execute_result"
    }
   ],
   "source": [
    "df.head()"
   ]
  },
  {
   "cell_type": "markdown",
   "metadata": {},
   "source": [
    "## 학습과 예측에 사용할 데이터셋 만들기"
   ]
  },
  {
   "cell_type": "code",
   "execution_count": 200,
   "metadata": {},
   "outputs": [
    {
     "data": {
      "text/plain": [
       "Index(['Pregnancies', 'Glucose', 'BloodPressure', 'SkinThickness', 'Insulin',\n",
       "       'BMI', 'DiabetesPedigreeFunction', 'Age', 'Outcome', 'Pregnancies_high',\n",
       "       'Age_low', 'Age_middle', 'Age_high', 'Insulin_nan', 'Insulin_log',\n",
       "       'low_glu_insulin'],\n",
       "      dtype='object')"
      ]
     },
     "execution_count": 200,
     "metadata": {},
     "output_type": "execute_result"
    }
   ],
   "source": [
    "df.columns"
   ]
  },
  {
   "cell_type": "code",
   "execution_count": 201,
   "metadata": {},
   "outputs": [
    {
     "data": {
      "text/plain": [
       "(768, 9)"
      ]
     },
     "execution_count": 201,
     "metadata": {},
     "output_type": "execute_result"
    }
   ],
   "source": [
    "# feature engineering 결과 더 잘 나왔던 변수들만 사용하도록 - 예측변수\n",
    "\n",
    "X = df[[ 'Glucose', 'BloodPressure', 'SkinThickness',\n",
    "       'BMI', 'DiabetesPedigreeFunction', 'Age', 'Pregnancies_high',\n",
    "       'Insulin_nan', 'low_glu_insulin']]\n",
    "X.shape"
   ]
  },
  {
   "cell_type": "code",
   "execution_count": 202,
   "metadata": {},
   "outputs": [
    {
     "data": {
      "text/plain": [
       "(768,)"
      ]
     },
     "execution_count": 202,
     "metadata": {},
     "output_type": "execute_result"
    }
   ],
   "source": [
    "y = df['Outcome']\n",
    "y.shape"
   ]
  },
  {
   "cell_type": "code",
   "execution_count": 203,
   "metadata": {},
   "outputs": [],
   "source": [
    "# 사이킷런에서 제공하는 model_selection의 train_test_split으로 만든다.\n",
    "# random state 는 매번 실행때마다 결과가 달라지는 것을 방지.\n",
    "\n",
    "from sklearn.model_selection import train_test_split\n",
    "\n",
    "X_train, X_test, y_train, y_test = train_test_split(X, y, test_size=0.2, random_state=42)"
   ]
  },
  {
   "cell_type": "code",
   "execution_count": 204,
   "metadata": {},
   "outputs": [
    {
     "data": {
      "text/plain": [
       "(614, 9)"
      ]
     },
     "execution_count": 204,
     "metadata": {},
     "output_type": "execute_result"
    }
   ],
   "source": [
    "X_train.shape"
   ]
  },
  {
   "cell_type": "code",
   "execution_count": 205,
   "metadata": {},
   "outputs": [
    {
     "data": {
      "text/plain": [
       "(614,)"
      ]
     },
     "execution_count": 205,
     "metadata": {},
     "output_type": "execute_result"
    }
   ],
   "source": [
    "y_train.shape"
   ]
  },
  {
   "cell_type": "code",
   "execution_count": 206,
   "metadata": {},
   "outputs": [
    {
     "data": {
      "text/plain": [
       "((154, 9), (154,))"
      ]
     },
     "execution_count": 206,
     "metadata": {},
     "output_type": "execute_result"
    }
   ],
   "source": [
    "X_test.shape, y_test.shape"
   ]
  },
  {
   "cell_type": "markdown",
   "metadata": {},
   "source": [
    "### 최적의 max_depth 값 찾기(조정만 해줘도 성능 향상)"
   ]
  },
  {
   "cell_type": "code",
   "execution_count": 207,
   "metadata": {},
   "outputs": [
    {
     "name": "stdout",
     "output_type": "stream",
     "text": [
      "3 83.76623376623377\n",
      "4 84.4155844155844\n",
      "5 86.36363636363636\n",
      "6 85.06493506493507\n",
      "7 83.11688311688312\n",
      "8 83.76623376623377\n",
      "9 83.11688311688312\n",
      "10 83.76623376623377\n",
      "11 83.11688311688312\n"
     ]
    }
   ],
   "source": [
    "from sklearn.metrics import accuracy_score\n",
    "\n",
    "for max_depth in range(3, 12):\n",
    "    model = DecisionTreeClassifier(max_depth=max_depth, random_state=42)\n",
    "    y_predict = model.fit(X_train, y_train).predict(X_test)\n",
    "    score = accuracy_score(y_test, y_predict) * 100\n",
    "    print(max_depth, score)"
   ]
  },
  {
   "cell_type": "markdown",
   "metadata": {},
   "source": [
    "* hyper parameter 찾는 것의 문제"
   ]
  },
  {
   "cell_type": "markdown",
   "metadata": {},
   "source": [
    "## Grid Search"
   ]
  },
  {
   "cell_type": "code",
   "execution_count": 208,
   "metadata": {
    "scrolled": true
   },
   "outputs": [
    {
     "name": "stdout",
     "output_type": "stream",
     "text": [
      "Fitting 5 folds for each of 45 candidates, totalling 225 fits\n"
     ]
    },
    {
     "name": "stderr",
     "output_type": "stream",
     "text": [
      "[Parallel(n_jobs=-1)]: Using backend LokyBackend with 8 concurrent workers.\n",
      "[Parallel(n_jobs=-1)]: Done  25 tasks      | elapsed:   11.5s\n",
      "[Parallel(n_jobs=-1)]: Done 210 out of 225 | elapsed:   13.1s remaining:    0.8s\n",
      "[Parallel(n_jobs=-1)]: Done 225 out of 225 | elapsed:   13.1s finished\n"
     ]
    },
    {
     "data": {
      "text/plain": [
       "GridSearchCV(cv=5, error_score=nan,\n",
       "             estimator=DecisionTreeClassifier(ccp_alpha=0.0, class_weight=None,\n",
       "                                              criterion='gini', max_depth=None,\n",
       "                                              max_features=None,\n",
       "                                              max_leaf_nodes=None,\n",
       "                                              min_impurity_decrease=0.0,\n",
       "                                              min_impurity_split=None,\n",
       "                                              min_samples_leaf=1,\n",
       "                                              min_samples_split=2,\n",
       "                                              min_weight_fraction_leaf=0.0,\n",
       "                                              presort='deprecated',\n",
       "                                              random_state=42,\n",
       "                                              splitter='best'),\n",
       "             iid='deprecated', n_jobs=-1,\n",
       "             param_grid={'max_depth': range(3, 12),\n",
       "                         'max_features': [0.3, 0.5, 0.7, 0.9, 1]},\n",
       "             pre_dispatch='2*n_jobs', refit=True, return_train_score=False,\n",
       "             scoring=None, verbose=2)"
      ]
     },
     "execution_count": 208,
     "metadata": {},
     "output_type": "execute_result"
    }
   ],
   "source": [
    "from sklearn.model_selection import GridSearchCV\n",
    "\n",
    "model = DecisionTreeClassifier(random_state=42)\n",
    "param_grid = {\"max_depth\": range(3, 12),\n",
    "\"max_features\": [0.3, 0.5, 0.7, 0.9, 1]}\n",
    "clf = GridSearchCV(model, param_grid=param_grid, n_jobs=-1, cv=5, verbose=2)\n",
    "clf.fit(X_train, y_train)"
   ]
  },
  {
   "cell_type": "code",
   "execution_count": 209,
   "metadata": {
    "scrolled": false
   },
   "outputs": [
    {
     "data": {
      "text/plain": [
       "{'max_depth': 7, 'max_features': 0.7}"
      ]
     },
     "execution_count": 209,
     "metadata": {},
     "output_type": "execute_result"
    }
   ],
   "source": [
    "# 가장 성능이 좋은 파라미터\n",
    "clf.best_params_"
   ]
  },
  {
   "cell_type": "code",
   "execution_count": 210,
   "metadata": {},
   "outputs": [
    {
     "data": {
      "text/plain": [
       "DecisionTreeClassifier(ccp_alpha=0.0, class_weight=None, criterion='gini',\n",
       "                       max_depth=7, max_features=0.7, max_leaf_nodes=None,\n",
       "                       min_impurity_decrease=0.0, min_impurity_split=None,\n",
       "                       min_samples_leaf=1, min_samples_split=2,\n",
       "                       min_weight_fraction_leaf=0.0, presort='deprecated',\n",
       "                       random_state=42, splitter='best')"
      ]
     },
     "execution_count": 210,
     "metadata": {},
     "output_type": "execute_result"
    }
   ],
   "source": [
    "# 가장 좋은 성능을 내는 파라미터 조합 전체 \n",
    "clf.best_estimator_"
   ]
  },
  {
   "cell_type": "code",
   "execution_count": 211,
   "metadata": {},
   "outputs": [
    {
     "data": {
      "text/plain": [
       "0.871398107423697"
      ]
     },
     "execution_count": 211,
     "metadata": {},
     "output_type": "execute_result"
    }
   ],
   "source": [
    "# 가장 좋은 점수\n",
    "clf.best_score_"
   ]
  },
  {
   "cell_type": "code",
   "execution_count": 212,
   "metadata": {
    "scrolled": true
   },
   "outputs": [
    {
     "data": {
      "text/html": [
       "<div>\n",
       "<style scoped>\n",
       "    .dataframe tbody tr th:only-of-type {\n",
       "        vertical-align: middle;\n",
       "    }\n",
       "\n",
       "    .dataframe tbody tr th {\n",
       "        vertical-align: top;\n",
       "    }\n",
       "\n",
       "    .dataframe thead th {\n",
       "        text-align: right;\n",
       "    }\n",
       "</style>\n",
       "<table border=\"1\" class=\"dataframe\">\n",
       "  <thead>\n",
       "    <tr style=\"text-align: right;\">\n",
       "      <th></th>\n",
       "      <th>mean_fit_time</th>\n",
       "      <th>std_fit_time</th>\n",
       "      <th>mean_score_time</th>\n",
       "      <th>std_score_time</th>\n",
       "      <th>param_max_depth</th>\n",
       "      <th>param_max_features</th>\n",
       "      <th>params</th>\n",
       "      <th>split0_test_score</th>\n",
       "      <th>split1_test_score</th>\n",
       "      <th>split2_test_score</th>\n",
       "      <th>split3_test_score</th>\n",
       "      <th>split4_test_score</th>\n",
       "      <th>mean_test_score</th>\n",
       "      <th>std_test_score</th>\n",
       "      <th>rank_test_score</th>\n",
       "    </tr>\n",
       "  </thead>\n",
       "  <tbody>\n",
       "    <tr>\n",
       "      <th>22</th>\n",
       "      <td>0.012166</td>\n",
       "      <td>0.001465</td>\n",
       "      <td>0.003790</td>\n",
       "      <td>0.000747</td>\n",
       "      <td>7</td>\n",
       "      <td>0.7</td>\n",
       "      <td>{'max_depth': 7, 'max_features': 0.7}</td>\n",
       "      <td>0.829268</td>\n",
       "      <td>0.886179</td>\n",
       "      <td>0.869919</td>\n",
       "      <td>0.861789</td>\n",
       "      <td>0.909836</td>\n",
       "      <td>0.871398</td>\n",
       "      <td>0.026704</td>\n",
       "      <td>1</td>\n",
       "    </tr>\n",
       "    <tr>\n",
       "      <th>17</th>\n",
       "      <td>0.018351</td>\n",
       "      <td>0.006135</td>\n",
       "      <td>0.003591</td>\n",
       "      <td>0.000797</td>\n",
       "      <td>6</td>\n",
       "      <td>0.7</td>\n",
       "      <td>{'max_depth': 6, 'max_features': 0.7}</td>\n",
       "      <td>0.853659</td>\n",
       "      <td>0.894309</td>\n",
       "      <td>0.821138</td>\n",
       "      <td>0.821138</td>\n",
       "      <td>0.885246</td>\n",
       "      <td>0.855098</td>\n",
       "      <td>0.030838</td>\n",
       "      <td>2</td>\n",
       "    </tr>\n",
       "    <tr>\n",
       "      <th>23</th>\n",
       "      <td>0.012367</td>\n",
       "      <td>0.000488</td>\n",
       "      <td>0.003191</td>\n",
       "      <td>0.000398</td>\n",
       "      <td>7</td>\n",
       "      <td>0.9</td>\n",
       "      <td>{'max_depth': 7, 'max_features': 0.9}</td>\n",
       "      <td>0.829268</td>\n",
       "      <td>0.894309</td>\n",
       "      <td>0.837398</td>\n",
       "      <td>0.829268</td>\n",
       "      <td>0.868852</td>\n",
       "      <td>0.851819</td>\n",
       "      <td>0.025770</td>\n",
       "      <td>3</td>\n",
       "    </tr>\n",
       "    <tr>\n",
       "      <th>12</th>\n",
       "      <td>0.008974</td>\n",
       "      <td>0.000630</td>\n",
       "      <td>0.002992</td>\n",
       "      <td>0.000630</td>\n",
       "      <td>5</td>\n",
       "      <td>0.7</td>\n",
       "      <td>{'max_depth': 5, 'max_features': 0.7}</td>\n",
       "      <td>0.804878</td>\n",
       "      <td>0.910569</td>\n",
       "      <td>0.829268</td>\n",
       "      <td>0.861789</td>\n",
       "      <td>0.852459</td>\n",
       "      <td>0.851793</td>\n",
       "      <td>0.035393</td>\n",
       "      <td>4</td>\n",
       "    </tr>\n",
       "    <tr>\n",
       "      <th>1</th>\n",
       "      <td>0.016954</td>\n",
       "      <td>0.006369</td>\n",
       "      <td>0.004986</td>\n",
       "      <td>0.000892</td>\n",
       "      <td>3</td>\n",
       "      <td>0.5</td>\n",
       "      <td>{'max_depth': 3, 'max_features': 0.5}</td>\n",
       "      <td>0.861789</td>\n",
       "      <td>0.886179</td>\n",
       "      <td>0.788618</td>\n",
       "      <td>0.845528</td>\n",
       "      <td>0.868852</td>\n",
       "      <td>0.850193</td>\n",
       "      <td>0.033439</td>\n",
       "      <td>5</td>\n",
       "    </tr>\n",
       "  </tbody>\n",
       "</table>\n",
       "</div>"
      ],
      "text/plain": [
       "    mean_fit_time  std_fit_time  mean_score_time  std_score_time  \\\n",
       "22       0.012166      0.001465         0.003790        0.000747   \n",
       "17       0.018351      0.006135         0.003591        0.000797   \n",
       "23       0.012367      0.000488         0.003191        0.000398   \n",
       "12       0.008974      0.000630         0.002992        0.000630   \n",
       "1        0.016954      0.006369         0.004986        0.000892   \n",
       "\n",
       "   param_max_depth param_max_features                                 params  \\\n",
       "22               7                0.7  {'max_depth': 7, 'max_features': 0.7}   \n",
       "17               6                0.7  {'max_depth': 6, 'max_features': 0.7}   \n",
       "23               7                0.9  {'max_depth': 7, 'max_features': 0.9}   \n",
       "12               5                0.7  {'max_depth': 5, 'max_features': 0.7}   \n",
       "1                3                0.5  {'max_depth': 3, 'max_features': 0.5}   \n",
       "\n",
       "    split0_test_score  split1_test_score  split2_test_score  \\\n",
       "22           0.829268           0.886179           0.869919   \n",
       "17           0.853659           0.894309           0.821138   \n",
       "23           0.829268           0.894309           0.837398   \n",
       "12           0.804878           0.910569           0.829268   \n",
       "1            0.861789           0.886179           0.788618   \n",
       "\n",
       "    split3_test_score  split4_test_score  mean_test_score  std_test_score  \\\n",
       "22           0.861789           0.909836         0.871398        0.026704   \n",
       "17           0.821138           0.885246         0.855098        0.030838   \n",
       "23           0.829268           0.868852         0.851819        0.025770   \n",
       "12           0.861789           0.852459         0.851793        0.035393   \n",
       "1            0.845528           0.868852         0.850193        0.033439   \n",
       "\n",
       "    rank_test_score  \n",
       "22                1  \n",
       "17                2  \n",
       "23                3  \n",
       "12                4  \n",
       "1                 5  "
      ]
     },
     "execution_count": 212,
     "metadata": {},
     "output_type": "execute_result"
    }
   ],
   "source": [
    "#  cv_results_는 cross validation 결과를 데이터프레임으로 반환합니다. score을 내림차순으로 확인할 수 있습니다.\n",
    "pd.DataFrame(clf.cv_results_).sort_values(by=\"rank_test_score\").head()"
   ]
  },
  {
   "cell_type": "code",
   "execution_count": 213,
   "metadata": {},
   "outputs": [
    {
     "data": {
      "text/plain": [
       "array([1, 0, 0, 0, 0, 1, 0, 0, 1, 0, 1, 0, 0, 0, 0, 0, 0, 0, 1, 0, 0, 0,\n",
       "       0, 0, 1, 1, 0, 0, 0, 0, 1, 1, 0, 1, 0, 1, 1, 1, 0, 1, 0, 0, 0, 1,\n",
       "       0, 0, 1, 0, 0, 1, 0, 1, 1, 1, 0, 0, 0, 0, 1, 1, 1, 0, 1, 1, 0, 1,\n",
       "       0, 1, 0, 1, 1, 0, 0, 0, 0, 0, 0, 0, 0, 0, 1, 0, 0, 1, 0, 0, 1, 1,\n",
       "       0, 0, 0, 0, 0, 1, 0, 1, 0, 0, 0, 0, 0, 0, 1, 0, 1, 0, 0, 1, 0, 1,\n",
       "       0, 0, 0, 0, 0, 0, 1, 0, 0, 0, 0, 0, 1, 0, 0, 0, 1, 1, 1, 1, 1, 1,\n",
       "       0, 1, 1, 0, 1, 1, 0, 0, 0, 0, 0, 0, 0, 0, 1, 0, 0, 1, 0, 0, 0, 0],\n",
       "      dtype=int64)"
      ]
     },
     "execution_count": 213,
     "metadata": {},
     "output_type": "execute_result"
    }
   ],
   "source": [
    "# 예측을 진행하여 답안지를 만듦\n",
    "clf.predict(X_test)"
   ]
  },
  {
   "cell_type": "code",
   "execution_count": 214,
   "metadata": {},
   "outputs": [
    {
     "data": {
      "text/plain": [
       "0.8311688311688312"
      ]
     },
     "execution_count": 214,
     "metadata": {},
     "output_type": "execute_result"
    }
   ],
   "source": [
    "clf.score(X_test, y_test)"
   ]
  },
  {
   "cell_type": "markdown",
   "metadata": {},
   "source": [
    "* 단점 : 우리가 지정해준 범위 내에서만 최적의 파라미터 찾을 수 있음."
   ]
  },
  {
   "cell_type": "markdown",
   "metadata": {},
   "source": [
    "## Random Search CV"
   ]
  },
  {
   "cell_type": "markdown",
   "metadata": {},
   "source": [
    "* 훨씬 더 랜덤하게"
   ]
  },
  {
   "cell_type": "code",
   "execution_count": 215,
   "metadata": {},
   "outputs": [
    {
     "data": {
      "text/plain": [
       "DecisionTreeClassifier(ccp_alpha=0.0, class_weight=None, criterion='gini',\n",
       "                       max_depth=None, max_features=None, max_leaf_nodes=None,\n",
       "                       min_impurity_decrease=0.0, min_impurity_split=None,\n",
       "                       min_samples_leaf=1, min_samples_split=2,\n",
       "                       min_weight_fraction_leaf=0.0, presort='deprecated',\n",
       "                       random_state=42, splitter='best')"
      ]
     },
     "execution_count": 215,
     "metadata": {},
     "output_type": "execute_result"
    }
   ],
   "source": [
    "model"
   ]
  },
  {
   "cell_type": "code",
   "execution_count": 216,
   "metadata": {},
   "outputs": [
    {
     "data": {
      "text/plain": [
       "array([13, 11, 16, 15, 16, 13,  8,  7, 10, 10])"
      ]
     },
     "execution_count": 216,
     "metadata": {},
     "output_type": "execute_result"
    }
   ],
   "source": [
    "# 1부터 20까지 랜덤하게 10개 추출\n",
    "# 원래 max_depth = np.random.randint(3, 20, 10)였는데, 마지막에 cv_result 봤을 때에서 최소 4정도여서 3으로 다시 바꿈\n",
    "\n",
    "max_depth = np.random.randint(3, 20, 10)\n",
    "max_depth"
   ]
  },
  {
   "cell_type": "code",
   "execution_count": 217,
   "metadata": {},
   "outputs": [],
   "source": [
    "max_features = np.random.uniform(0.4, 1.0, 100)"
   ]
  },
  {
   "cell_type": "code",
   "execution_count": 218,
   "metadata": {},
   "outputs": [
    {
     "data": {
      "text/plain": [
       "{'max_depth': array([13, 11, 16, 15, 16, 13,  8,  7, 10, 10]),\n",
       " 'max_features': array([0.43123184, 0.5037532 , 0.76638565, 0.57808589, 0.9344729 ,\n",
       "        0.78912078, 0.93603817, 0.9107862 , 0.97380066, 0.46724301,\n",
       "        0.61886588, 0.89971041, 0.81669474, 0.80934275, 0.8796573 ,\n",
       "        0.49627456, 0.61739017, 0.82265427, 0.89618927, 0.88470493,\n",
       "        0.6908307 , 0.78248067, 0.68335779, 0.55718497, 0.64825135,\n",
       "        0.94180497, 0.73588668, 0.7722347 , 0.44966143, 0.65919356,\n",
       "        0.99943691, 0.87394788, 0.41651999, 0.82275041, 0.95218432,\n",
       "        0.92726444, 0.99328393, 0.43656771, 0.49940164, 0.90753994,\n",
       "        0.43305058, 0.91027473, 0.71073475, 0.90215785, 0.92935209,\n",
       "        0.42990198, 0.9043062 , 0.74625244, 0.40002069, 0.97460539,\n",
       "        0.55214486, 0.77291353, 0.77494327, 0.90706834, 0.97886969,\n",
       "        0.56578267, 0.8895683 , 0.545664  , 0.57806351, 0.81014943,\n",
       "        0.41826182, 0.45168045, 0.88469449, 0.6696875 , 0.55752673,\n",
       "        0.94265336, 0.50769876, 0.42839601, 0.8284326 , 0.97133318,\n",
       "        0.53001691, 0.74924519, 0.97274194, 0.62403596, 0.48755489,\n",
       "        0.48299294, 0.40491356, 0.80537917, 0.97127588, 0.9674893 ,\n",
       "        0.61703405, 0.61498378, 0.68881673, 0.65382277, 0.64506017,\n",
       "        0.89654564, 0.79719576, 0.97812191, 0.76327961, 0.5468972 ,\n",
       "        0.42335306, 0.5460724 , 0.46675771, 0.84918646, 0.9541961 ,\n",
       "        0.91994598, 0.78687965, 0.574588  , 0.79351069, 0.49539536]),\n",
       " 'min_samples_split': [2, 3, 4, 5, 6]}"
      ]
     },
     "execution_count": 218,
     "metadata": {},
     "output_type": "execute_result"
    }
   ],
   "source": [
    "param_distributions = {'max_depth': max_depth, 'max_features': max_features, 'min_samples_split' : list(range(2,7))}\n",
    "param_distributions"
   ]
  },
  {
   "cell_type": "code",
   "execution_count": 219,
   "metadata": {},
   "outputs": [
    {
     "data": {
      "text/plain": [
       "RandomizedSearchCV(cv=5, error_score=nan,\n",
       "                   estimator=DecisionTreeClassifier(ccp_alpha=0.0,\n",
       "                                                    class_weight=None,\n",
       "                                                    criterion='gini',\n",
       "                                                    max_depth=None,\n",
       "                                                    max_features=None,\n",
       "                                                    max_leaf_nodes=None,\n",
       "                                                    min_impurity_decrease=0.0,\n",
       "                                                    min_impurity_split=None,\n",
       "                                                    min_samples_leaf=1,\n",
       "                                                    min_samples_split=2,\n",
       "                                                    min_weight_fraction_leaf=0.0,\n",
       "                                                    presort='deprecated',\n",
       "                                                    random_state=42,\n",
       "                                                    splitter='best'),\n",
       "                   iid...\n",
       "       0.61703405, 0.61498378, 0.68881673, 0.65382277, 0.64506017,\n",
       "       0.89654564, 0.79719576, 0.97812191, 0.76327961, 0.5468972 ,\n",
       "       0.42335306, 0.5460724 , 0.46675771, 0.84918646, 0.9541961 ,\n",
       "       0.91994598, 0.78687965, 0.574588  , 0.79351069, 0.49539536]),\n",
       "                                        'min_samples_split': [2, 3, 4, 5, 6]},\n",
       "                   pre_dispatch='2*n_jobs', random_state=42, refit=True,\n",
       "                   return_train_score=False, scoring='accuracy', verbose=0)"
      ]
     },
     "execution_count": 219,
     "metadata": {},
     "output_type": "execute_result"
    }
   ],
   "source": [
    "# n_iter ; 몇 번 반복 (100은 앞에서 랜덤하게 100개)\n",
    "\n",
    "from sklearn.model_selection import RandomizedSearchCV\n",
    "\n",
    "clf = RandomizedSearchCV(model, \n",
    "                   param_distributions,\n",
    "                   n_iter=100,\n",
    "                   scoring='accuracy',\n",
    "                   n_jobs = -1,\n",
    "                   cv=5,\n",
    "                   random_state=42)\n",
    "\n",
    "clf.fit(X_train, y_train)"
   ]
  },
  {
   "cell_type": "code",
   "execution_count": 220,
   "metadata": {},
   "outputs": [
    {
     "data": {
      "text/plain": [
       "{'min_samples_split': 2, 'max_features': 0.8284326034506684, 'max_depth': 8}"
      ]
     },
     "execution_count": 220,
     "metadata": {},
     "output_type": "execute_result"
    }
   ],
   "source": [
    "clf.best_params_"
   ]
  },
  {
   "cell_type": "code",
   "execution_count": 221,
   "metadata": {},
   "outputs": [
    {
     "data": {
      "text/plain": [
       "0.859962681594029"
      ]
     },
     "execution_count": 221,
     "metadata": {},
     "output_type": "execute_result"
    }
   ],
   "source": [
    "clf.best_score_"
   ]
  },
  {
   "cell_type": "code",
   "execution_count": 222,
   "metadata": {},
   "outputs": [
    {
     "data": {
      "text/plain": [
       "0.8376623376623377"
      ]
     },
     "execution_count": 222,
     "metadata": {},
     "output_type": "execute_result"
    }
   ],
   "source": [
    "# Grid Search의 0.8311688311688312 보다 약간 향상됨.\n",
    "# 사실 max_depth를 4로 했을 때 더 좋게 나오진 않음.\n",
    "# 앞에서 n_iter를 많이 해주면 더 좋은 결과를 낼 수도 있음.\n",
    "\n",
    "clf.score(X_test, y_test)"
   ]
  },
  {
   "cell_type": "code",
   "execution_count": 223,
   "metadata": {},
   "outputs": [
    {
     "data": {
      "text/html": [
       "<div>\n",
       "<style scoped>\n",
       "    .dataframe tbody tr th:only-of-type {\n",
       "        vertical-align: middle;\n",
       "    }\n",
       "\n",
       "    .dataframe tbody tr th {\n",
       "        vertical-align: top;\n",
       "    }\n",
       "\n",
       "    .dataframe thead th {\n",
       "        text-align: right;\n",
       "    }\n",
       "</style>\n",
       "<table border=\"1\" class=\"dataframe\">\n",
       "  <thead>\n",
       "    <tr style=\"text-align: right;\">\n",
       "      <th></th>\n",
       "      <th>mean_fit_time</th>\n",
       "      <th>std_fit_time</th>\n",
       "      <th>mean_score_time</th>\n",
       "      <th>std_score_time</th>\n",
       "      <th>param_min_samples_split</th>\n",
       "      <th>param_max_features</th>\n",
       "      <th>param_max_depth</th>\n",
       "      <th>params</th>\n",
       "      <th>split0_test_score</th>\n",
       "      <th>split1_test_score</th>\n",
       "      <th>split2_test_score</th>\n",
       "      <th>split3_test_score</th>\n",
       "      <th>split4_test_score</th>\n",
       "      <th>mean_test_score</th>\n",
       "      <th>std_test_score</th>\n",
       "      <th>rank_test_score</th>\n",
       "    </tr>\n",
       "  </thead>\n",
       "  <tbody>\n",
       "    <tr>\n",
       "      <th>66</th>\n",
       "      <td>0.012965</td>\n",
       "      <td>0.001669</td>\n",
       "      <td>0.003790</td>\n",
       "      <td>0.000399</td>\n",
       "      <td>2</td>\n",
       "      <td>0.828433</td>\n",
       "      <td>8</td>\n",
       "      <td>{'min_samples_split': 2, 'max_features': 0.828...</td>\n",
       "      <td>0.861789</td>\n",
       "      <td>0.894309</td>\n",
       "      <td>0.796748</td>\n",
       "      <td>0.869919</td>\n",
       "      <td>0.877049</td>\n",
       "      <td>0.859963</td>\n",
       "      <td>0.033377</td>\n",
       "      <td>1</td>\n",
       "    </tr>\n",
       "    <tr>\n",
       "      <th>63</th>\n",
       "      <td>0.017553</td>\n",
       "      <td>0.005801</td>\n",
       "      <td>0.003990</td>\n",
       "      <td>0.001545</td>\n",
       "      <td>4</td>\n",
       "      <td>0.972742</td>\n",
       "      <td>7</td>\n",
       "      <td>{'min_samples_split': 4, 'max_features': 0.972...</td>\n",
       "      <td>0.837398</td>\n",
       "      <td>0.894309</td>\n",
       "      <td>0.829268</td>\n",
       "      <td>0.869919</td>\n",
       "      <td>0.852459</td>\n",
       "      <td>0.856671</td>\n",
       "      <td>0.023376</td>\n",
       "      <td>2</td>\n",
       "    </tr>\n",
       "    <tr>\n",
       "      <th>68</th>\n",
       "      <td>0.011969</td>\n",
       "      <td>0.001093</td>\n",
       "      <td>0.003391</td>\n",
       "      <td>0.000489</td>\n",
       "      <td>4</td>\n",
       "      <td>0.993284</td>\n",
       "      <td>7</td>\n",
       "      <td>{'min_samples_split': 4, 'max_features': 0.993...</td>\n",
       "      <td>0.837398</td>\n",
       "      <td>0.894309</td>\n",
       "      <td>0.829268</td>\n",
       "      <td>0.869919</td>\n",
       "      <td>0.852459</td>\n",
       "      <td>0.856671</td>\n",
       "      <td>0.023376</td>\n",
       "      <td>2</td>\n",
       "    </tr>\n",
       "    <tr>\n",
       "      <th>36</th>\n",
       "      <td>0.012167</td>\n",
       "      <td>0.001162</td>\n",
       "      <td>0.003790</td>\n",
       "      <td>0.000746</td>\n",
       "      <td>2</td>\n",
       "      <td>0.822654</td>\n",
       "      <td>7</td>\n",
       "      <td>{'min_samples_split': 2, 'max_features': 0.822...</td>\n",
       "      <td>0.796748</td>\n",
       "      <td>0.894309</td>\n",
       "      <td>0.837398</td>\n",
       "      <td>0.869919</td>\n",
       "      <td>0.868852</td>\n",
       "      <td>0.853445</td>\n",
       "      <td>0.033618</td>\n",
       "      <td>4</td>\n",
       "    </tr>\n",
       "    <tr>\n",
       "      <th>45</th>\n",
       "      <td>0.011170</td>\n",
       "      <td>0.000977</td>\n",
       "      <td>0.004189</td>\n",
       "      <td>0.000747</td>\n",
       "      <td>3</td>\n",
       "      <td>0.614984</td>\n",
       "      <td>7</td>\n",
       "      <td>{'min_samples_split': 3, 'max_features': 0.614...</td>\n",
       "      <td>0.804878</td>\n",
       "      <td>0.894309</td>\n",
       "      <td>0.853659</td>\n",
       "      <td>0.845528</td>\n",
       "      <td>0.868852</td>\n",
       "      <td>0.853445</td>\n",
       "      <td>0.029424</td>\n",
       "      <td>4</td>\n",
       "    </tr>\n",
       "  </tbody>\n",
       "</table>\n",
       "</div>"
      ],
      "text/plain": [
       "    mean_fit_time  std_fit_time  mean_score_time  std_score_time  \\\n",
       "66       0.012965      0.001669         0.003790        0.000399   \n",
       "63       0.017553      0.005801         0.003990        0.001545   \n",
       "68       0.011969      0.001093         0.003391        0.000489   \n",
       "36       0.012167      0.001162         0.003790        0.000746   \n",
       "45       0.011170      0.000977         0.004189        0.000747   \n",
       "\n",
       "   param_min_samples_split param_max_features param_max_depth  \\\n",
       "66                       2           0.828433               8   \n",
       "63                       4           0.972742               7   \n",
       "68                       4           0.993284               7   \n",
       "36                       2           0.822654               7   \n",
       "45                       3           0.614984               7   \n",
       "\n",
       "                                               params  split0_test_score  \\\n",
       "66  {'min_samples_split': 2, 'max_features': 0.828...           0.861789   \n",
       "63  {'min_samples_split': 4, 'max_features': 0.972...           0.837398   \n",
       "68  {'min_samples_split': 4, 'max_features': 0.993...           0.837398   \n",
       "36  {'min_samples_split': 2, 'max_features': 0.822...           0.796748   \n",
       "45  {'min_samples_split': 3, 'max_features': 0.614...           0.804878   \n",
       "\n",
       "    split1_test_score  split2_test_score  split3_test_score  \\\n",
       "66           0.894309           0.796748           0.869919   \n",
       "63           0.894309           0.829268           0.869919   \n",
       "68           0.894309           0.829268           0.869919   \n",
       "36           0.894309           0.837398           0.869919   \n",
       "45           0.894309           0.853659           0.845528   \n",
       "\n",
       "    split4_test_score  mean_test_score  std_test_score  rank_test_score  \n",
       "66           0.877049         0.859963        0.033377                1  \n",
       "63           0.852459         0.856671        0.023376                2  \n",
       "68           0.852459         0.856671        0.023376                2  \n",
       "36           0.868852         0.853445        0.033618                4  \n",
       "45           0.868852         0.853445        0.029424                4  "
      ]
     },
     "execution_count": 223,
     "metadata": {},
     "output_type": "execute_result"
    }
   ],
   "source": [
    "pd.DataFrame(clf.cv_results_).sort_values(by='rank_test_score').head()\n",
    "\n",
    "# max depth가 최소 4부터 좋게 나타남 -> 앞선 max_depth에서 시작을 3정도로 바꿔준다.\n",
    "# max featrues는 대충 0.5정도부터 좋게 나타남 -> 0.4부터 시작?"
   ]
  },
  {
   "cell_type": "markdown",
   "metadata": {},
   "source": [
    "## Decision Tree"
   ]
  },
  {
   "cell_type": "markdown",
   "metadata": {},
   "source": [
    "* 조건에 따라 True/False로 나뉘면서 sample 계수가 줄어들고, gini가 0이 될때 그만. \n",
    "* 시각화에 용이\n",
    "* 지도분류 학습에서 가장 유용하게 사용하고 있는 기법이다."
   ]
  },
  {
   "cell_type": "markdown",
   "metadata": {},
   "source": [
    "* 분류 트리 분석 : 예측된 결과로 입력 데이터가 분류되는 클래스를 출력 (구매여부 등)\n",
    "* 회귀 트리 분석 : 예측된 결과로 특정 의미를 지니는 실수 값을 출력 (주택의 가격 등)"
   ]
  },
  {
   "cell_type": "markdown",
   "metadata": {},
   "source": [
    "* 앙상블 방법 : 여러개 사용해서 더 좋은. Bootstrap aggregating -> sample data 여러 개 추출해서 여러 개 트리를 그린다. 오버피팅 현상 조금 줄여줄 수 있음.<br>\n",
    "; 반복적으로 교체 과정을 수행하고 훈련 데이터를 재 샘플링하고, 합의 예측을 위한 트리를 선택하는 것으로 다수의 의사 결정 트리 생성"
   ]
  },
  {
   "cell_type": "markdown",
   "metadata": {},
   "source": [
    "### Decision Tree - SingleTree"
   ]
  },
  {
   "cell_type": "markdown",
   "metadata": {},
   "source": [
    "* 5.2 옵션 해제하고 그대로 다른 것들 수행해주면 됨."
   ]
  },
  {
   "cell_type": "code",
   "execution_count": 187,
   "metadata": {},
   "outputs": [],
   "source": [
    "# DecisionTree를 불러온다. (당뇨병여부를 예측하는 것이기 때문에 Classifier)\n",
    "# 옵션 값 조정하면 성능도 달라진다.\n",
    "# 모델 시각화하기 용이하다는 장점이 있다.\n",
    "\n",
    "## from sklearn.tree import DecisionTreeClassifier\n",
    "\n",
    "## model = DecisionTreeClassifier(random_state = 42, max_depth = 5)\n",
    "## model"
   ]
  },
  {
   "cell_type": "markdown",
   "metadata": {},
   "source": [
    "### Bagging - RandomForest"
   ]
  },
  {
   "cell_type": "code",
   "execution_count": 238,
   "metadata": {
    "scrolled": true
   },
   "outputs": [],
   "source": [
    "##from sklearn.ensemble import RandomForestClassifier\n",
    "\n",
    "##model = RandomForestClassifier(random_state=42)\n",
    "##model"
   ]
  },
  {
   "cell_type": "code",
   "execution_count": 225,
   "metadata": {},
   "outputs": [],
   "source": [
    "feature_names = X_train.columns.tolist()"
   ]
  },
  {
   "cell_type": "code",
   "execution_count": 239,
   "metadata": {
    "scrolled": true
   },
   "outputs": [],
   "source": [
    "# from sklearn.tree import plot_tree\n",
    "\n",
    "# tree라는 변수에 할당을 해줘야지 그림으로 나타난다.\n",
    "# tree 맨 밑에 보면 sample 수가 1개 뭐 이딴식인데 이럼 overfitting -> decision tree 옵션 변경으로 개선\n",
    "\n",
    "# plt.figure(figsize=(15,15))\n",
    "# tree = plot_tree(model, fontsize=10, feature_names = feature_names, filled = True)"
   ]
  },
  {
   "cell_type": "markdown",
   "metadata": {},
   "source": [
    "### Boosting - GradientBoosting"
   ]
  },
  {
   "cell_type": "markdown",
   "metadata": {},
   "source": [
    "* 샘플링 한거에서 가중치. 다음 샘플링. 그리고 또 가중치 적용해서 샘플링"
   ]
  },
  {
   "cell_type": "code",
   "execution_count": 264,
   "metadata": {},
   "outputs": [
    {
     "data": {
      "text/plain": [
       "GradientBoostingClassifier(ccp_alpha=0.0, criterion='friedman_mse', init=None,\n",
       "                           learning_rate=0.1, loss='deviance', max_depth=3,\n",
       "                           max_features=None, max_leaf_nodes=None,\n",
       "                           min_impurity_decrease=0.0, min_impurity_split=None,\n",
       "                           min_samples_leaf=1, min_samples_split=2,\n",
       "                           min_weight_fraction_leaf=0.0, n_estimators=100,\n",
       "                           n_iter_no_change=None, presort='deprecated',\n",
       "                           random_state=42, subsample=1.0, tol=0.0001,\n",
       "                           validation_fraction=0.1, verbose=0,\n",
       "                           warm_start=False)"
      ]
     },
     "execution_count": 264,
     "metadata": {},
     "output_type": "execute_result"
    }
   ],
   "source": [
    "from sklearn.ensemble import GradientBoostingClassifier\n",
    "\n",
    "model = GradientBoostingClassifier(random_state=42)\n",
    "model"
   ]
  },
  {
   "cell_type": "markdown",
   "metadata": {},
   "source": [
    "## 학습과 예측하기"
   ]
  },
  {
   "cell_type": "code",
   "execution_count": 265,
   "metadata": {
    "scrolled": true
   },
   "outputs": [
    {
     "data": {
      "text/plain": [
       "GradientBoostingClassifier(ccp_alpha=0.0, criterion='friedman_mse', init=None,\n",
       "                           learning_rate=0.1, loss='deviance', max_depth=3,\n",
       "                           max_features=None, max_leaf_nodes=None,\n",
       "                           min_impurity_decrease=0.0, min_impurity_split=None,\n",
       "                           min_samples_leaf=1, min_samples_split=2,\n",
       "                           min_weight_fraction_leaf=0.0, n_estimators=100,\n",
       "                           n_iter_no_change=None, presort='deprecated',\n",
       "                           random_state=42, subsample=1.0, tol=0.0001,\n",
       "                           validation_fraction=0.1, verbose=0,\n",
       "                           warm_start=False)"
      ]
     },
     "execution_count": 265,
     "metadata": {},
     "output_type": "execute_result"
    }
   ],
   "source": [
    "# 학습을 시킨다.\n",
    "\n",
    "model.fit(X_train, y_train)"
   ]
  },
  {
   "cell_type": "code",
   "execution_count": 266,
   "metadata": {
    "scrolled": true
   },
   "outputs": [
    {
     "data": {
      "text/plain": [
       "array([0.11099012, 0.00776988, 0.10211075, 0.03584765, 0.02933404,\n",
       "       0.09548332, 0.        , 0.61846424, 0.        ])"
      ]
     },
     "execution_count": 266,
     "metadata": {},
     "output_type": "execute_result"
    }
   ],
   "source": [
    "model.feature_importances_"
   ]
  },
  {
   "cell_type": "code",
   "execution_count": 267,
   "metadata": {},
   "outputs": [],
   "source": [
    "feature_names = X_train.columns.tolist()"
   ]
  },
  {
   "cell_type": "code",
   "execution_count": 268,
   "metadata": {},
   "outputs": [
    {
     "data": {
      "text/plain": [
       "<matplotlib.axes._subplots.AxesSubplot at 0x1f1263a3e48>"
      ]
     },
     "execution_count": 268,
     "metadata": {},
     "output_type": "execute_result"
    },
    {
     "data": {
      "image/png": "[encoded data removed]",
      "text/plain": [
       "<Figure size 432x288 with 1 Axes>"
      ]
     },
     "metadata": {
      "needs_background": "light"
     },
     "output_type": "display_data"
    }
   ],
   "source": [
    "sns.barplot(x=model.feature_importances_, y=feature_names)"
   ]
  },
  {
   "cell_type": "code",
   "execution_count": 269,
   "metadata": {
    "scrolled": true
   },
   "outputs": [
    {
     "data": {
      "text/plain": [
       "array([1, 0, 0, 0, 0], dtype=int64)"
      ]
     },
     "execution_count": 269,
     "metadata": {},
     "output_type": "execute_result"
    }
   ],
   "source": [
    "y_predict = model.predict(X_test)\n",
    "y_predict[:5]"
   ]
  },
  {
   "cell_type": "markdown",
   "metadata": {},
   "source": [
    "## 정확도(Accuracy) 측정하기"
   ]
  },
  {
   "cell_type": "code",
   "execution_count": 270,
   "metadata": {},
   "outputs": [
    {
     "data": {
      "text/plain": [
       "22"
      ]
     },
     "execution_count": 270,
     "metadata": {},
     "output_type": "execute_result"
    }
   ],
   "source": [
    "# 다르게 예측한 개수를 구해서 diff_count에 할당한다.\n",
    "# 지난 feature 이전에 했을 때 정확도와 다르다. : 지난번에는 위에서 순서대로 20 80 이런식으로 테스트와 트레인 데이터셋을 나눠주었지만, 이번에는 사이킷런을 통해 랜덤으로 나누어주었기 때문이다.\n",
    "# 그래서 계속 다시 정확도 측정하면 랜덤하게 또 다 다르게 나온다 결과가!!!\n",
    "# 그래서 DecisionTree에서 random state로 설정해서 동일한 조건에서 동일한 결과가 나오게 해준다.\n",
    "\n",
    "# max_dept로 조절하면 정확도 향상\n",
    "\n",
    "# abs(y_predict - y_test).sum() 혹은\n",
    "\n",
    "(y_predict != y_test).sum()\n",
    "\n",
    "# Decision tree 1 : 21\n",
    "# Random Forest : 21"
   ]
  },
  {
   "cell_type": "code",
   "execution_count": 271,
   "metadata": {},
   "outputs": [
    {
     "data": {
      "text/plain": [
       "85.71428571428571"
      ]
     },
     "execution_count": 271,
     "metadata": {},
     "output_type": "execute_result"
    }
   ],
   "source": [
    "# accuracy score\n",
    "\n",
    "from sklearn.metrics import accuracy_score\n",
    "\n",
    "accuracy_score(y_test, y_predict) * 100"
   ]
  },
  {
   "cell_type": "markdown",
   "metadata": {},
   "source": [
    "* 처음 83% (지난번 결과는 overfitting) -> max_dept 조정(=5) 86% -> Random Forest 83% -> GradientBoosting 22개 85%"
   ]
  },
  {
   "cell_type": "markdown",
   "metadata": {},
   "source": [
    "* GradientBoosting 이 효과가 가장 좋아서 이걸 사용하고 싶을 수도 있지만, 랜덤으로 찾기 : RandomSearchCV"
   ]
  },
  {
   "cell_type": "code",
   "execution_count": null,
   "metadata": {},
   "outputs": [],
   "source": []
  }
 ],
 "metadata": {
  "kernelspec": {
   "display_name": "Python 3",
   "language": "python",
   "name": "python3"
  },
  "language_info": {
   "codemirror_mode": {
    "name": "ipython",
    "version": 3
   },
   "file_extension": ".py",
   "mimetype": "text/x-python",
   "name": "python",
   "nbconvert_exporter": "python",
   "pygments_lexer": "ipython3",
   "version": "3.7.6"
  },
  "toc": {
   "base_numbering": 1,
   "nav_menu": {},
   "number_sections": true,
   "sideBar": true,
   "skip_h1_title": false,
   "title_cell": "Table of Contents",
   "title_sidebar": "Contents",
   "toc_cell": false,
   "toc_position": {
    "height": "calc(100% - 180px)",
    "left": "10px",
    "top": "150px",
    "width": "170.667px"
   },
   "toc_section_display": true,
   "toc_window_display": true
  }
 },
 "nbformat": 4,
 "nbformat_minor": 4
}
