{
 "cells": [
  {
   "cell_type": "markdown",
   "metadata": {},
   "source": [
    "* classification / regression : 지도학습\n",
    "* clustering / dimensionality reduction : 비지도학습"
   ]
  },
  {
   "cell_type": "markdown",
   "metadata": {},
   "source": [
    "https://scikit-learn.org/stable/tutorial/machine_learning_map/index.html"
   ]
  },
  {
   "cell_type": "code",
   "execution_count": 1,
   "metadata": {},
   "outputs": [],
   "source": [
    "import pandas as pd\n",
    "import numpy as np\n",
    "import seaborn as sns\n",
    "import matplotlib.pyplot as plt\n",
    "\n",
    "%matplotlib inline"
   ]
  },
  {
   "cell_type": "code",
   "execution_count": 2,
   "metadata": {},
   "outputs": [
    {
     "data": {
      "text/plain": [
       "(768, 9)"
      ]
     },
     "execution_count": 2,
     "metadata": {},
     "output_type": "execute_result"
    }
   ],
   "source": [
    "df = pd.read_csv(\"data/diabetes.csv\")\n",
    "df.shape"
   ]
  },
  {
   "cell_type": "code",
   "execution_count": 3,
   "metadata": {},
   "outputs": [
    {
     "data": {
      "text/html": [
       "<div>\n",
       "<style scoped>\n",
       "    .dataframe tbody tr th:only-of-type {\n",
       "        vertical-align: middle;\n",
       "    }\n",
       "\n",
       "    .dataframe tbody tr th {\n",
       "        vertical-align: top;\n",
       "    }\n",
       "\n",
       "    .dataframe thead th {\n",
       "        text-align: right;\n",
       "    }\n",
       "</style>\n",
       "<table border=\"1\" class=\"dataframe\">\n",
       "  <thead>\n",
       "    <tr style=\"text-align: right;\">\n",
       "      <th></th>\n",
       "      <th>Pregnancies</th>\n",
       "      <th>Glucose</th>\n",
       "      <th>BloodPressure</th>\n",
       "      <th>SkinThickness</th>\n",
       "      <th>Insulin</th>\n",
       "      <th>BMI</th>\n",
       "      <th>DiabetesPedigreeFunction</th>\n",
       "      <th>Age</th>\n",
       "      <th>Outcome</th>\n",
       "    </tr>\n",
       "  </thead>\n",
       "  <tbody>\n",
       "    <tr>\n",
       "      <th>0</th>\n",
       "      <td>6</td>\n",
       "      <td>148</td>\n",
       "      <td>72</td>\n",
       "      <td>35</td>\n",
       "      <td>0</td>\n",
       "      <td>33.6</td>\n",
       "      <td>0.627</td>\n",
       "      <td>50</td>\n",
       "      <td>1</td>\n",
       "    </tr>\n",
       "    <tr>\n",
       "      <th>1</th>\n",
       "      <td>1</td>\n",
       "      <td>85</td>\n",
       "      <td>66</td>\n",
       "      <td>29</td>\n",
       "      <td>0</td>\n",
       "      <td>26.6</td>\n",
       "      <td>0.351</td>\n",
       "      <td>31</td>\n",
       "      <td>0</td>\n",
       "    </tr>\n",
       "    <tr>\n",
       "      <th>2</th>\n",
       "      <td>8</td>\n",
       "      <td>183</td>\n",
       "      <td>64</td>\n",
       "      <td>0</td>\n",
       "      <td>0</td>\n",
       "      <td>23.3</td>\n",
       "      <td>0.672</td>\n",
       "      <td>32</td>\n",
       "      <td>1</td>\n",
       "    </tr>\n",
       "    <tr>\n",
       "      <th>3</th>\n",
       "      <td>1</td>\n",
       "      <td>89</td>\n",
       "      <td>66</td>\n",
       "      <td>23</td>\n",
       "      <td>94</td>\n",
       "      <td>28.1</td>\n",
       "      <td>0.167</td>\n",
       "      <td>21</td>\n",
       "      <td>0</td>\n",
       "    </tr>\n",
       "    <tr>\n",
       "      <th>4</th>\n",
       "      <td>0</td>\n",
       "      <td>137</td>\n",
       "      <td>40</td>\n",
       "      <td>35</td>\n",
       "      <td>168</td>\n",
       "      <td>43.1</td>\n",
       "      <td>2.288</td>\n",
       "      <td>33</td>\n",
       "      <td>1</td>\n",
       "    </tr>\n",
       "  </tbody>\n",
       "</table>\n",
       "</div>"
      ],
      "text/plain": [
       "   Pregnancies  Glucose  BloodPressure  SkinThickness  Insulin   BMI  \\\n",
       "0            6      148             72             35        0  33.6   \n",
       "1            1       85             66             29        0  26.6   \n",
       "2            8      183             64              0        0  23.3   \n",
       "3            1       89             66             23       94  28.1   \n",
       "4            0      137             40             35      168  43.1   \n",
       "\n",
       "   DiabetesPedigreeFunction  Age  Outcome  \n",
       "0                     0.627   50        1  \n",
       "1                     0.351   31        0  \n",
       "2                     0.672   32        1  \n",
       "3                     0.167   21        0  \n",
       "4                     2.288   33        1  "
      ]
     },
     "execution_count": 3,
     "metadata": {},
     "output_type": "execute_result"
    }
   ],
   "source": [
    "# 전처리 할 때 이전에는 BMI가 0인 것 등을 중앙값, 평균값으로 바꿨었다.\n",
    "\n",
    "df.head()"
   ]
  },
  {
   "cell_type": "markdown",
   "metadata": {},
   "source": [
    "## 학습, 예측 데이터셋 나누기"
   ]
  },
  {
   "cell_type": "markdown",
   "metadata": {},
   "source": [
    "* 보통 예측 데이터보다 학습 데이터가 많아야지 좀 더 잘 학습됨\n",
    "* Insulin 값을 예측해서 결측치를 채우는 것이 목표이기 때문에, 인슐린 값이 0일때가 결측치라고 볼 수 있으므로 이를 기준으로 나눈다."
   ]
  },
  {
   "cell_type": "code",
   "execution_count": 4,
   "metadata": {},
   "outputs": [
    {
     "data": {
      "text/plain": [
       "True     394\n",
       "False    374\n",
       "Name: Insulin, dtype: int64"
      ]
     },
     "execution_count": 4,
     "metadata": {},
     "output_type": "execute_result"
    }
   ],
   "source": [
    "(df['Insulin'] > 0).value_counts()"
   ]
  },
  {
   "cell_type": "code",
   "execution_count": 5,
   "metadata": {},
   "outputs": [
    {
     "data": {
      "text/plain": [
       "(394, 9)"
      ]
     },
     "execution_count": 5,
     "metadata": {},
     "output_type": "execute_result"
    }
   ],
   "source": [
    "# train set\n",
    "train = df[df['Insulin'] > 0].copy()\n",
    "train.shape"
   ]
  },
  {
   "cell_type": "code",
   "execution_count": 6,
   "metadata": {},
   "outputs": [
    {
     "data": {
      "text/plain": [
       "(374, 9)"
      ]
     },
     "execution_count": 6,
     "metadata": {},
     "output_type": "execute_result"
    }
   ],
   "source": [
    "# test set\n",
    "test = df[df['Insulin'] == 0].copy()\n",
    "test.shape"
   ]
  },
  {
   "cell_type": "markdown",
   "metadata": {},
   "source": [
    "## EDA"
   ]
  },
  {
   "cell_type": "code",
   "execution_count": 7,
   "metadata": {},
   "outputs": [
    {
     "data": {
      "text/plain": [
       "<matplotlib.axes._subplots.AxesSubplot at 0x26525aec648>"
      ]
     },
     "execution_count": 7,
     "metadata": {},
     "output_type": "execute_result"
    },
    {
     "data": {
      "image/png": "[encoded data removed]",
      "text/plain": [
       "<Figure size 432x288 with 1 Axes>"
      ]
     },
     "metadata": {
      "needs_background": "light"
     },
     "output_type": "display_data"
    }
   ],
   "source": [
    "sns.distplot(train['Insulin'])\n",
    "\n",
    "# 600 이상 정도에 이상치가 많다."
   ]
  },
  {
   "cell_type": "code",
   "execution_count": 8,
   "metadata": {},
   "outputs": [
    {
     "data": {
      "text/plain": [
       "<matplotlib.axes._subplots.AxesSubplot at 0x265262ab608>"
      ]
     },
     "execution_count": 8,
     "metadata": {},
     "output_type": "execute_result"
    },
    {
     "data": {
      "image/png": "[encoded data removed]",
      "text/plain": [
       "<Figure size 432x288 with 1 Axes>"
      ]
     },
     "metadata": {
      "needs_background": "light"
     },
     "output_type": "display_data"
    }
   ],
   "source": [
    "sns.boxplot(train['Insulin'])"
   ]
  },
  {
   "cell_type": "code",
   "execution_count": 9,
   "metadata": {},
   "outputs": [
    {
     "data": {
      "text/plain": [
       "count    394.000000\n",
       "mean     155.548223\n",
       "std      118.775855\n",
       "min       14.000000\n",
       "25%       76.250000\n",
       "50%      125.000000\n",
       "75%      190.000000\n",
       "max      846.000000\n",
       "Name: Insulin, dtype: float64"
      ]
     },
     "execution_count": 9,
     "metadata": {},
     "output_type": "execute_result"
    }
   ],
   "source": [
    "desc = train['Insulin'].describe()\n",
    "desc"
   ]
  },
  {
   "cell_type": "code",
   "execution_count": 10,
   "metadata": {},
   "outputs": [],
   "source": [
    "# Outlier\n",
    "IQR = desc.loc['75%'] - desc.loc['25%']\n",
    "OUT = (IQR * 1.5) + desc.loc['75%']"
   ]
  },
  {
   "cell_type": "code",
   "execution_count": 11,
   "metadata": {},
   "outputs": [
    {
     "data": {
      "text/plain": [
       "(24, 9)"
      ]
     },
     "execution_count": 11,
     "metadata": {},
     "output_type": "execute_result"
    }
   ],
   "source": [
    "train[train['Insulin'] > OUT].shape"
   ]
  },
  {
   "cell_type": "code",
   "execution_count": 12,
   "metadata": {},
   "outputs": [
    {
     "name": "stdout",
     "output_type": "stream",
     "text": [
      "(394, 9)\n"
     ]
    },
    {
     "data": {
      "text/plain": [
       "(370, 9)"
      ]
     },
     "execution_count": 12,
     "metadata": {},
     "output_type": "execute_result"
    }
   ],
   "source": [
    "print(train.shape) # 얘 원래 print하면 (394, 9) 였음!!\n",
    "## train = train[train['Insulin'] < 600] ; 우선 위에 24개 다 지우면 너무 적어지니까, 600 이상의 진짜 극단적인 애들만 지워준다. 그리고 그걸 train set으로한다.\n",
    "train = train[train['Insulin'] < OUT] # 이번엔 OUT 다 제거\n",
    "train.shape"
   ]
  },
  {
   "cell_type": "markdown",
   "metadata": {},
   "source": [
    "## 학습, 예측에 사용할 컬럼"
   ]
  },
  {
   "cell_type": "code",
   "execution_count": 13,
   "metadata": {},
   "outputs": [
    {
     "data": {
      "text/plain": [
       "['Pregnancies',\n",
       " 'Glucose',\n",
       " 'BloodPressure',\n",
       " 'SkinThickness',\n",
       " 'BMI',\n",
       " 'DiabetesPedigreeFunction',\n",
       " 'Age',\n",
       " 'Outcome']"
      ]
     },
     "execution_count": 13,
     "metadata": {},
     "output_type": "execute_result"
    }
   ],
   "source": [
    "feature_names = test.columns.tolist()\n",
    "feature_names.remove('Insulin')\n",
    "feature_names"
   ]
  },
  {
   "cell_type": "markdown",
   "metadata": {},
   "source": [
    "## 정답값이자 예측해야 될 값"
   ]
  },
  {
   "cell_type": "code",
   "execution_count": 14,
   "metadata": {},
   "outputs": [
    {
     "data": {
      "text/plain": [
       "'Insulin'"
      ]
     },
     "execution_count": 14,
     "metadata": {},
     "output_type": "execute_result"
    }
   ],
   "source": [
    "label_name = 'Insulin'\n",
    "label_name"
   ]
  },
  {
   "cell_type": "markdown",
   "metadata": {},
   "source": [
    "## 학습, 예측 데이터셋 만들기"
   ]
  },
  {
   "cell_type": "code",
   "execution_count": 15,
   "metadata": {
    "scrolled": true
   },
   "outputs": [
    {
     "data": {
      "text/plain": [
       "(370, 8)"
      ]
     },
     "execution_count": 15,
     "metadata": {},
     "output_type": "execute_result"
    }
   ],
   "source": [
    "X_train = train[feature_names]\n",
    "X_train.shape"
   ]
  },
  {
   "cell_type": "code",
   "execution_count": 16,
   "metadata": {},
   "outputs": [
    {
     "data": {
      "text/plain": [
       "(370,)"
      ]
     },
     "execution_count": 16,
     "metadata": {},
     "output_type": "execute_result"
    }
   ],
   "source": [
    "y_train = train[label_name]\n",
    "y_train.shape"
   ]
  },
  {
   "cell_type": "code",
   "execution_count": 17,
   "metadata": {},
   "outputs": [
    {
     "data": {
      "text/plain": [
       "(374, 8)"
      ]
     },
     "execution_count": 17,
     "metadata": {},
     "output_type": "execute_result"
    }
   ],
   "source": [
    "X_test = test[feature_names]\n",
    "X_test.shape"
   ]
  },
  {
   "cell_type": "code",
   "execution_count": 18,
   "metadata": {},
   "outputs": [
    {
     "data": {
      "text/plain": [
       "(374,)"
      ]
     },
     "execution_count": 18,
     "metadata": {},
     "output_type": "execute_result"
    }
   ],
   "source": [
    "y_test = test[label_name]\n",
    "y_test.shape #어차피 다 0"
   ]
  },
  {
   "cell_type": "markdown",
   "metadata": {},
   "source": [
    "## 머신러닝 알고리즘 가져오기"
   ]
  },
  {
   "cell_type": "markdown",
   "metadata": {},
   "source": [
    "* Ridge,Lasso,Elastic Net 이 있지만, classifier에도 사용 가능한 tree 기반 알고리즘 사용"
   ]
  },
  {
   "cell_type": "code",
   "execution_count": 19,
   "metadata": {},
   "outputs": [
    {
     "data": {
      "text/plain": [
       "[DecisionTreeRegressor(ccp_alpha=0.0, criterion='mse', max_depth=None,\n",
       "                       max_features=None, max_leaf_nodes=None,\n",
       "                       min_impurity_decrease=0.0, min_impurity_split=None,\n",
       "                       min_samples_leaf=1, min_samples_split=2,\n",
       "                       min_weight_fraction_leaf=0.0, presort='deprecated',\n",
       "                       random_state=42, splitter='best'),\n",
       " RandomForestRegressor(bootstrap=True, ccp_alpha=0.0, criterion='mse',\n",
       "                       max_depth=None, max_features='auto', max_leaf_nodes=None,\n",
       "                       max_samples=None, min_impurity_decrease=0.0,\n",
       "                       min_impurity_split=None, min_samples_leaf=1,\n",
       "                       min_samples_split=2, min_weight_fraction_leaf=0.0,\n",
       "                       n_estimators=100, n_jobs=None, oob_score=False,\n",
       "                       random_state=42, verbose=0, warm_start=False),\n",
       " GradientBoostingRegressor(alpha=0.9, ccp_alpha=0.0, criterion='friedman_mse',\n",
       "                           init=None, learning_rate=0.1, loss='ls', max_depth=3,\n",
       "                           max_features=None, max_leaf_nodes=None,\n",
       "                           min_impurity_decrease=0.0, min_impurity_split=None,\n",
       "                           min_samples_leaf=1, min_samples_split=2,\n",
       "                           min_weight_fraction_leaf=0.0, n_estimators=100,\n",
       "                           n_iter_no_change=None, presort='deprecated',\n",
       "                           random_state=42, subsample=1.0, tol=0.0001,\n",
       "                           validation_fraction=0.1, verbose=0, warm_start=False)]"
      ]
     },
     "execution_count": 19,
     "metadata": {},
     "output_type": "execute_result"
    }
   ],
   "source": [
    "from sklearn.tree import DecisionTreeRegressor\n",
    "from sklearn.ensemble import RandomForestRegressor, GradientBoostingRegressor\n",
    "\n",
    "\n",
    "estimators = [DecisionTreeRegressor(random_state=42),\n",
    "         RandomForestRegressor(random_state=42),\n",
    "         GradientBoostingRegressor(random_state=42)]\n",
    "\n",
    "estimators"
   ]
  },
  {
   "cell_type": "code",
   "execution_count": 20,
   "metadata": {},
   "outputs": [
    {
     "data": {
      "text/plain": [
       "array([12,  7, 13, 15, 24, 24, 11,  5, 19, 10])"
      ]
     },
     "execution_count": 20,
     "metadata": {},
     "output_type": "execute_result"
    }
   ],
   "source": [
    "max_depth = np.random.randint(5, 30, 10)\n",
    "max_depth"
   ]
  },
  {
   "cell_type": "code",
   "execution_count": 21,
   "metadata": {},
   "outputs": [
    {
     "data": {
      "text/plain": [
       "array([0.90335631, 0.64217525, 0.57311986, 0.89322825, 0.57874838,\n",
       "       0.49462441, 0.94007808, 0.98837699, 0.64860791, 0.46754794])"
      ]
     },
     "execution_count": 21,
     "metadata": {},
     "output_type": "execute_result"
    }
   ],
   "source": [
    "max_features = np.random.uniform(0.3, 1.0, 10)\n",
    "max_features"
   ]
  },
  {
   "cell_type": "code",
   "execution_count": 26,
   "metadata": {},
   "outputs": [
    {
     "data": {
      "text/html": [
       "<div>\n",
       "<style scoped>\n",
       "    .dataframe tbody tr th:only-of-type {\n",
       "        vertical-align: middle;\n",
       "    }\n",
       "\n",
       "    .dataframe tbody tr th {\n",
       "        vertical-align: top;\n",
       "    }\n",
       "\n",
       "    .dataframe thead th {\n",
       "        text-align: right;\n",
       "    }\n",
       "</style>\n",
       "<table border=\"1\" class=\"dataframe\">\n",
       "  <thead>\n",
       "    <tr style=\"text-align: right;\">\n",
       "      <th></th>\n",
       "      <th>0</th>\n",
       "    </tr>\n",
       "  </thead>\n",
       "  <tbody>\n",
       "    <tr>\n",
       "      <th>0</th>\n",
       "      <td>DecisionTreeRegressor</td>\n",
       "    </tr>\n",
       "    <tr>\n",
       "      <th>1</th>\n",
       "      <td>RandomForestRegressor</td>\n",
       "    </tr>\n",
       "    <tr>\n",
       "      <th>2</th>\n",
       "      <td>GradientBoostingRegressor</td>\n",
       "    </tr>\n",
       "  </tbody>\n",
       "</table>\n",
       "</div>"
      ],
      "text/plain": [
       "                           0\n",
       "0      DecisionTreeRegressor\n",
       "1      RandomForestRegressor\n",
       "2  GradientBoostingRegressor"
      ]
     },
     "execution_count": 26,
     "metadata": {},
     "output_type": "execute_result"
    }
   ],
   "source": [
    "results = []\n",
    "for estimator in estimators:\n",
    "    result = []\n",
    "    result.append(estimator.__class__.__name__)\n",
    "    results.append(result)\n",
    "    \n",
    "pd.DataFrame(results)"
   ]
  },
  {
   "cell_type": "code",
   "execution_count": 29,
   "metadata": {},
   "outputs": [
    {
     "name": "stdout",
     "output_type": "stream",
     "text": [
      "Fitting 5 folds for each of 10 candidates, totalling 50 fits\n",
      "[CV] max_features=0.6208600236574925, max_depth=23 ...................\n",
      "[CV] .... max_features=0.6208600236574925, max_depth=23, total=   0.0s\n",
      "[CV] max_features=0.6208600236574925, max_depth=23 ...................\n",
      "[CV] .... max_features=0.6208600236574925, max_depth=23, total=   0.0s\n",
      "[CV] max_features=0.6208600236574925, max_depth=23 ...................\n",
      "[CV] .... max_features=0.6208600236574925, max_depth=23, total=   0.0s\n",
      "[CV] max_features=0.6208600236574925, max_depth=23 ...................\n",
      "[CV] .... max_features=0.6208600236574925, max_depth=23, total=   0.0s\n",
      "[CV] max_features=0.6208600236574925, max_depth=23 ...................\n",
      "[CV] .... max_features=0.6208600236574925, max_depth=23, total=   0.0s\n",
      "[CV] max_features=0.6208600236574925, max_depth=7 ....................\n",
      "[CV] ..... max_features=0.6208600236574925, max_depth=7, total=   0.0s\n",
      "[CV] max_features=0.6208600236574925, max_depth=7 ....................\n",
      "[CV] ..... max_features=0.6208600236574925, max_depth=7, total=   0.0s\n",
      "[CV] max_features=0.6208600236574925, max_depth=7 ....................\n",
      "[CV] ..... max_features=0.6208600236574925, max_depth=7, total=   0.0s\n",
      "[CV] max_features=0.6208600236574925, max_depth=7 ....................\n",
      "[CV] ..... max_features=0.6208600236574925, max_depth=7, total=   0.0s\n",
      "[CV] max_features=0.6208600236574925, max_depth=7 ....................\n"
     ]
    },
    {
     "name": "stderr",
     "output_type": "stream",
     "text": [
      "[Parallel(n_jobs=1)]: Using backend SequentialBackend with 1 concurrent workers.\n",
      "[Parallel(n_jobs=1)]: Done   1 out of   1 | elapsed:    0.0s remaining:    0.0s\n"
     ]
    },
    {
     "name": "stdout",
     "output_type": "stream",
     "text": [
      "[CV] ..... max_features=0.6208600236574925, max_depth=7, total=   0.0s\n",
      "[CV] max_features=0.41866714201315436, max_depth=11 ..................\n",
      "[CV] ... max_features=0.41866714201315436, max_depth=11, total=   0.0s\n",
      "[CV] max_features=0.41866714201315436, max_depth=11 ..................\n",
      "[CV] ... max_features=0.41866714201315436, max_depth=11, total=   0.0s\n",
      "[CV] max_features=0.41866714201315436, max_depth=11 ..................\n",
      "[CV] ... max_features=0.41866714201315436, max_depth=11, total=   0.0s\n",
      "[CV] max_features=0.41866714201315436, max_depth=11 ..................\n",
      "[CV] ... max_features=0.41866714201315436, max_depth=11, total=   0.0s\n",
      "[CV] max_features=0.41866714201315436, max_depth=11 ..................\n",
      "[CV] ... max_features=0.41866714201315436, max_depth=11, total=   0.0s\n",
      "[CV] max_features=0.5150743396919608, max_depth=22 ...................\n",
      "[CV] .... max_features=0.5150743396919608, max_depth=22, total=   0.0s\n",
      "[CV] max_features=0.5150743396919608, max_depth=22 ...................\n",
      "[CV] .... max_features=0.5150743396919608, max_depth=22, total=   0.0s\n",
      "[CV] max_features=0.5150743396919608, max_depth=22 ...................\n",
      "[CV] .... max_features=0.5150743396919608, max_depth=22, total=   0.0s\n",
      "[CV] max_features=0.5150743396919608, max_depth=22 ...................\n",
      "[CV] .... max_features=0.5150743396919608, max_depth=22, total=   0.0s\n",
      "[CV] max_features=0.5150743396919608, max_depth=22 ...................\n",
      "[CV] .... max_features=0.5150743396919608, max_depth=22, total=   0.0s\n",
      "[CV] max_features=0.7152493735223572, max_depth=22 ...................\n",
      "[CV] .... max_features=0.7152493735223572, max_depth=22, total=   0.0s\n",
      "[CV] max_features=0.7152493735223572, max_depth=22 ...................\n",
      "[CV] .... max_features=0.7152493735223572, max_depth=22, total=   0.0s\n",
      "[CV] max_features=0.7152493735223572, max_depth=22 ...................\n",
      "[CV] .... max_features=0.7152493735223572, max_depth=22, total=   0.0s\n",
      "[CV] max_features=0.7152493735223572, max_depth=22 ...................\n",
      "[CV] .... max_features=0.7152493735223572, max_depth=22, total=   0.0s\n",
      "[CV] max_features=0.7152493735223572, max_depth=22 ...................\n",
      "[CV] .... max_features=0.7152493735223572, max_depth=22, total=   0.0s\n",
      "[CV] max_features=0.7882794350376711, max_depth=17 ...................\n",
      "[CV] .... max_features=0.7882794350376711, max_depth=17, total=   0.0s\n",
      "[CV] max_features=0.7882794350376711, max_depth=17 ...................\n",
      "[CV] .... max_features=0.7882794350376711, max_depth=17, total=   0.0s\n",
      "[CV] max_features=0.7882794350376711, max_depth=17 ...................\n",
      "[CV] .... max_features=0.7882794350376711, max_depth=17, total=   0.0s\n",
      "[CV] max_features=0.7882794350376711, max_depth=17 ...................\n",
      "[CV] .... max_features=0.7882794350376711, max_depth=17, total=   0.0s\n",
      "[CV] max_features=0.7882794350376711, max_depth=17 ...................\n",
      "[CV] .... max_features=0.7882794350376711, max_depth=17, total=   0.0s\n",
      "[CV] max_features=0.49177547411112255, max_depth=17 ..................\n",
      "[CV] ... max_features=0.49177547411112255, max_depth=17, total=   0.0s\n",
      "[CV] max_features=0.49177547411112255, max_depth=17 ..................\n",
      "[CV] ... max_features=0.49177547411112255, max_depth=17, total=   0.0s\n",
      "[CV] max_features=0.49177547411112255, max_depth=17 ..................\n",
      "[CV] ... max_features=0.49177547411112255, max_depth=17, total=   0.0s\n",
      "[CV] max_features=0.49177547411112255, max_depth=17 ..................\n",
      "[CV] ... max_features=0.49177547411112255, max_depth=17, total=   0.0s\n",
      "[CV] max_features=0.49177547411112255, max_depth=17 ..................\n",
      "[CV] ... max_features=0.49177547411112255, max_depth=17, total=   0.0s\n",
      "[CV] max_features=0.41866714201315436, max_depth=23 ..................\n",
      "[CV] ... max_features=0.41866714201315436, max_depth=23, total=   0.0s\n",
      "[CV] max_features=0.41866714201315436, max_depth=23 ..................\n",
      "[CV] ... max_features=0.41866714201315436, max_depth=23, total=   0.0s\n",
      "[CV] max_features=0.41866714201315436, max_depth=23 ..................\n",
      "[CV] ... max_features=0.41866714201315436, max_depth=23, total=   0.0s\n",
      "[CV] max_features=0.41866714201315436, max_depth=23 ..................\n",
      "[CV] ... max_features=0.41866714201315436, max_depth=23, total=   0.0s\n",
      "[CV] max_features=0.41866714201315436, max_depth=23 ..................\n",
      "[CV] ... max_features=0.41866714201315436, max_depth=23, total=   0.0s\n",
      "[CV] max_features=0.41866714201315436, max_depth=17 ..................\n",
      "[CV] ... max_features=0.41866714201315436, max_depth=17, total=   0.0s\n",
      "[CV] max_features=0.41866714201315436, max_depth=17 ..................\n",
      "[CV] ... max_features=0.41866714201315436, max_depth=17, total=   0.0s\n",
      "[CV] max_features=0.41866714201315436, max_depth=17 ..................\n",
      "[CV] ... max_features=0.41866714201315436, max_depth=17, total=   0.0s\n",
      "[CV] max_features=0.41866714201315436, max_depth=17 ..................\n",
      "[CV] ... max_features=0.41866714201315436, max_depth=17, total=   0.0s\n",
      "[CV] max_features=0.41866714201315436, max_depth=17 ..................\n",
      "[CV] ... max_features=0.41866714201315436, max_depth=17, total=   0.0s\n",
      "[CV] max_features=0.41866714201315436, max_depth=26 ..................\n",
      "[CV] ... max_features=0.41866714201315436, max_depth=26, total=   0.0s\n",
      "[CV] max_features=0.41866714201315436, max_depth=26 ..................\n",
      "[CV] ... max_features=0.41866714201315436, max_depth=26, total=   0.0s\n",
      "[CV] max_features=0.41866714201315436, max_depth=26 ..................\n",
      "[CV] ... max_features=0.41866714201315436, max_depth=26, total=   0.0s\n",
      "[CV] max_features=0.41866714201315436, max_depth=26 ..................\n",
      "[CV] ... max_features=0.41866714201315436, max_depth=26, total=   0.0s\n",
      "[CV] max_features=0.41866714201315436, max_depth=26 ..................\n",
      "[CV] ... max_features=0.41866714201315436, max_depth=26, total=   0.0s\n"
     ]
    },
    {
     "name": "stderr",
     "output_type": "stream",
     "text": [
      "[Parallel(n_jobs=1)]: Done  50 out of  50 | elapsed:    0.7s finished\n",
      "[Parallel(n_jobs=1)]: Using backend SequentialBackend with 1 concurrent workers.\n"
     ]
    },
    {
     "name": "stdout",
     "output_type": "stream",
     "text": [
      "Fitting 5 folds for each of 10 candidates, totalling 50 fits\n",
      "[CV] max_features=0.9138837469457095, max_depth=8 ....................\n",
      "[CV] ..... max_features=0.9138837469457095, max_depth=8, total=   0.5s\n",
      "[CV] max_features=0.9138837469457095, max_depth=8 ....................\n"
     ]
    },
    {
     "name": "stderr",
     "output_type": "stream",
     "text": [
      "[Parallel(n_jobs=1)]: Done   1 out of   1 | elapsed:    0.4s remaining:    0.0s\n"
     ]
    },
    {
     "name": "stdout",
     "output_type": "stream",
     "text": [
      "[CV] ..... max_features=0.9138837469457095, max_depth=8, total=   0.4s\n",
      "[CV] max_features=0.9138837469457095, max_depth=8 ....................\n",
      "[CV] ..... max_features=0.9138837469457095, max_depth=8, total=   0.5s\n",
      "[CV] max_features=0.9138837469457095, max_depth=8 ....................\n",
      "[CV] ..... max_features=0.9138837469457095, max_depth=8, total=   0.6s\n",
      "[CV] max_features=0.9138837469457095, max_depth=8 ....................\n",
      "[CV] ..... max_features=0.9138837469457095, max_depth=8, total=   0.8s\n",
      "[CV] max_features=0.9138837469457095, max_depth=8 ....................\n",
      "[CV] ..... max_features=0.9138837469457095, max_depth=8, total=   0.6s\n",
      "[CV] max_features=0.9138837469457095, max_depth=8 ....................\n",
      "[CV] ..... max_features=0.9138837469457095, max_depth=8, total=   0.6s\n",
      "[CV] max_features=0.9138837469457095, max_depth=8 ....................\n",
      "[CV] ..... max_features=0.9138837469457095, max_depth=8, total=   0.5s\n",
      "[CV] max_features=0.9138837469457095, max_depth=8 ....................\n",
      "[CV] ..... max_features=0.9138837469457095, max_depth=8, total=   0.5s\n",
      "[CV] max_features=0.9138837469457095, max_depth=8 ....................\n",
      "[CV] ..... max_features=0.9138837469457095, max_depth=8, total=   0.5s\n",
      "[CV] max_features=0.7878570676024264, max_depth=19 ...................\n",
      "[CV] .... max_features=0.7878570676024264, max_depth=19, total=   0.5s\n",
      "[CV] max_features=0.7878570676024264, max_depth=19 ...................\n",
      "[CV] .... max_features=0.7878570676024264, max_depth=19, total=   0.6s\n",
      "[CV] max_features=0.7878570676024264, max_depth=19 ...................\n",
      "[CV] .... max_features=0.7878570676024264, max_depth=19, total=   0.9s\n",
      "[CV] max_features=0.7878570676024264, max_depth=19 ...................\n",
      "[CV] .... max_features=0.7878570676024264, max_depth=19, total=   0.9s\n",
      "[CV] max_features=0.7878570676024264, max_depth=19 ...................\n",
      "[CV] .... max_features=0.7878570676024264, max_depth=19, total=   0.5s\n",
      "[CV] max_features=0.3066048522352863, max_depth=25 ...................\n",
      "[CV] .... max_features=0.3066048522352863, max_depth=25, total=   0.4s\n",
      "[CV] max_features=0.3066048522352863, max_depth=25 ...................\n",
      "[CV] .... max_features=0.3066048522352863, max_depth=25, total=   0.6s\n",
      "[CV] max_features=0.3066048522352863, max_depth=25 ...................\n",
      "[CV] .... max_features=0.3066048522352863, max_depth=25, total=   0.5s\n",
      "[CV] max_features=0.3066048522352863, max_depth=25 ...................\n",
      "[CV] .... max_features=0.3066048522352863, max_depth=25, total=   0.7s\n",
      "[CV] max_features=0.3066048522352863, max_depth=25 ...................\n",
      "[CV] .... max_features=0.3066048522352863, max_depth=25, total=   0.8s\n",
      "[CV] max_features=0.6358054473523942, max_depth=25 ...................\n",
      "[CV] .... max_features=0.6358054473523942, max_depth=25, total=   1.0s\n",
      "[CV] max_features=0.6358054473523942, max_depth=25 ...................\n",
      "[CV] .... max_features=0.6358054473523942, max_depth=25, total=   0.8s\n",
      "[CV] max_features=0.6358054473523942, max_depth=25 ...................\n",
      "[CV] .... max_features=0.6358054473523942, max_depth=25, total=   0.8s\n",
      "[CV] max_features=0.6358054473523942, max_depth=25 ...................\n",
      "[CV] .... max_features=0.6358054473523942, max_depth=25, total=   0.7s\n",
      "[CV] max_features=0.6358054473523942, max_depth=25 ...................\n",
      "[CV] .... max_features=0.6358054473523942, max_depth=25, total=   1.1s\n",
      "[CV] max_features=0.60064772473472, max_depth=17 .....................\n",
      "[CV] ...... max_features=0.60064772473472, max_depth=17, total=   1.0s\n",
      "[CV] max_features=0.60064772473472, max_depth=17 .....................\n",
      "[CV] ...... max_features=0.60064772473472, max_depth=17, total=   1.0s\n",
      "[CV] max_features=0.60064772473472, max_depth=17 .....................\n",
      "[CV] ...... max_features=0.60064772473472, max_depth=17, total=   0.8s\n",
      "[CV] max_features=0.60064772473472, max_depth=17 .....................\n",
      "[CV] ...... max_features=0.60064772473472, max_depth=17, total=   0.4s\n",
      "[CV] max_features=0.60064772473472, max_depth=17 .....................\n",
      "[CV] ...... max_features=0.60064772473472, max_depth=17, total=   0.5s\n",
      "[CV] max_features=0.6350958326506789, max_depth=28 ...................\n",
      "[CV] .... max_features=0.6350958326506789, max_depth=28, total=   0.5s\n",
      "[CV] max_features=0.6350958326506789, max_depth=28 ...................\n",
      "[CV] .... max_features=0.6350958326506789, max_depth=28, total=   0.6s\n",
      "[CV] max_features=0.6350958326506789, max_depth=28 ...................\n",
      "[CV] .... max_features=0.6350958326506789, max_depth=28, total=   0.4s\n",
      "[CV] max_features=0.6350958326506789, max_depth=28 ...................\n",
      "[CV] .... max_features=0.6350958326506789, max_depth=28, total=   0.5s\n",
      "[CV] max_features=0.6350958326506789, max_depth=28 ...................\n",
      "[CV] .... max_features=0.6350958326506789, max_depth=28, total=   0.5s\n",
      "[CV] max_features=0.7878570676024264, max_depth=8 ....................\n",
      "[CV] ..... max_features=0.7878570676024264, max_depth=8, total=   0.4s\n",
      "[CV] max_features=0.7878570676024264, max_depth=8 ....................\n",
      "[CV] ..... max_features=0.7878570676024264, max_depth=8, total=   0.4s\n",
      "[CV] max_features=0.7878570676024264, max_depth=8 ....................\n",
      "[CV] ..... max_features=0.7878570676024264, max_depth=8, total=   0.4s\n",
      "[CV] max_features=0.7878570676024264, max_depth=8 ....................\n",
      "[CV] ..... max_features=0.7878570676024264, max_depth=8, total=   0.6s\n",
      "[CV] max_features=0.7878570676024264, max_depth=8 ....................\n",
      "[CV] ..... max_features=0.7878570676024264, max_depth=8, total=   0.4s\n",
      "[CV] max_features=0.7878570676024264, max_depth=27 ...................\n",
      "[CV] .... max_features=0.7878570676024264, max_depth=27, total=   0.9s\n",
      "[CV] max_features=0.7878570676024264, max_depth=27 ...................\n",
      "[CV] .... max_features=0.7878570676024264, max_depth=27, total=   0.9s\n",
      "[CV] max_features=0.7878570676024264, max_depth=27 ...................\n",
      "[CV] .... max_features=0.7878570676024264, max_depth=27, total=   0.8s\n",
      "[CV] max_features=0.7878570676024264, max_depth=27 ...................\n",
      "[CV] .... max_features=0.7878570676024264, max_depth=27, total=   1.0s\n",
      "[CV] max_features=0.7878570676024264, max_depth=27 ...................\n",
      "[CV] .... max_features=0.7878570676024264, max_depth=27, total=   1.0s\n",
      "[CV] max_features=0.7878570676024264, max_depth=10 ...................\n",
      "[CV] .... max_features=0.7878570676024264, max_depth=10, total=   0.8s\n",
      "[CV] max_features=0.7878570676024264, max_depth=10 ...................\n",
      "[CV] .... max_features=0.7878570676024264, max_depth=10, total=   1.0s\n",
      "[CV] max_features=0.7878570676024264, max_depth=10 ...................\n",
      "[CV] .... max_features=0.7878570676024264, max_depth=10, total=   1.0s\n",
      "[CV] max_features=0.7878570676024264, max_depth=10 ...................\n",
      "[CV] .... max_features=0.7878570676024264, max_depth=10, total=   1.0s\n",
      "[CV] max_features=0.7878570676024264, max_depth=10 ...................\n",
      "[CV] .... max_features=0.7878570676024264, max_depth=10, total=   0.7s\n"
     ]
    },
    {
     "name": "stderr",
     "output_type": "stream",
     "text": [
      "[Parallel(n_jobs=1)]: Done  50 out of  50 | elapsed:   34.1s finished\n"
     ]
    },
    {
     "name": "stdout",
     "output_type": "stream",
     "text": [
      "Fitting 5 folds for each of 10 candidates, totalling 50 fits\n",
      "[CV] max_features=0.7780314108141955, max_depth=14 ...................\n"
     ]
    },
    {
     "name": "stderr",
     "output_type": "stream",
     "text": [
      "[Parallel(n_jobs=1)]: Using backend SequentialBackend with 1 concurrent workers.\n"
     ]
    },
    {
     "name": "stdout",
     "output_type": "stream",
     "text": [
      "[CV] .... max_features=0.7780314108141955, max_depth=14, total=   0.5s\n",
      "[CV] max_features=0.7780314108141955, max_depth=14 ...................\n"
     ]
    },
    {
     "name": "stderr",
     "output_type": "stream",
     "text": [
      "[Parallel(n_jobs=1)]: Done   1 out of   1 | elapsed:    0.4s remaining:    0.0s\n"
     ]
    },
    {
     "name": "stdout",
     "output_type": "stream",
     "text": [
      "[CV] .... max_features=0.7780314108141955, max_depth=14, total=   0.5s\n",
      "[CV] max_features=0.7780314108141955, max_depth=14 ...................\n",
      "[CV] .... max_features=0.7780314108141955, max_depth=14, total=   0.8s\n",
      "[CV] max_features=0.7780314108141955, max_depth=14 ...................\n",
      "[CV] .... max_features=0.7780314108141955, max_depth=14, total=   0.6s\n",
      "[CV] max_features=0.7780314108141955, max_depth=14 ...................\n",
      "[CV] .... max_features=0.7780314108141955, max_depth=14, total=   0.7s\n",
      "[CV] max_features=0.7780314108141955, max_depth=8 ....................\n",
      "[CV] ..... max_features=0.7780314108141955, max_depth=8, total=   0.5s\n",
      "[CV] max_features=0.7780314108141955, max_depth=8 ....................\n",
      "[CV] ..... max_features=0.7780314108141955, max_depth=8, total=   0.6s\n",
      "[CV] max_features=0.7780314108141955, max_depth=8 ....................\n",
      "[CV] ..... max_features=0.7780314108141955, max_depth=8, total=   0.6s\n",
      "[CV] max_features=0.7780314108141955, max_depth=8 ....................\n",
      "[CV] ..... max_features=0.7780314108141955, max_depth=8, total=   0.5s\n",
      "[CV] max_features=0.7780314108141955, max_depth=8 ....................\n",
      "[CV] ..... max_features=0.7780314108141955, max_depth=8, total=   0.5s\n",
      "[CV] max_features=0.899191178956124, max_depth=21 ....................\n",
      "[CV] ..... max_features=0.899191178956124, max_depth=21, total=   0.6s\n",
      "[CV] max_features=0.899191178956124, max_depth=21 ....................\n",
      "[CV] ..... max_features=0.899191178956124, max_depth=21, total=   0.4s\n",
      "[CV] max_features=0.899191178956124, max_depth=21 ....................\n",
      "[CV] ..... max_features=0.899191178956124, max_depth=21, total=   0.4s\n",
      "[CV] max_features=0.899191178956124, max_depth=21 ....................\n",
      "[CV] ..... max_features=0.899191178956124, max_depth=21, total=   0.5s\n",
      "[CV] max_features=0.899191178956124, max_depth=21 ....................\n",
      "[CV] ..... max_features=0.899191178956124, max_depth=21, total=   0.4s\n",
      "[CV] max_features=0.67062762916413, max_depth=21 .....................\n",
      "[CV] ...... max_features=0.67062762916413, max_depth=21, total=   0.3s\n",
      "[CV] max_features=0.67062762916413, max_depth=21 .....................\n",
      "[CV] ...... max_features=0.67062762916413, max_depth=21, total=   0.3s\n",
      "[CV] max_features=0.67062762916413, max_depth=21 .....................\n",
      "[CV] ...... max_features=0.67062762916413, max_depth=21, total=   0.3s\n",
      "[CV] max_features=0.67062762916413, max_depth=21 .....................\n",
      "[CV] ...... max_features=0.67062762916413, max_depth=21, total=   0.4s\n",
      "[CV] max_features=0.67062762916413, max_depth=21 .....................\n",
      "[CV] ...... max_features=0.67062762916413, max_depth=21, total=   0.5s\n",
      "[CV] max_features=0.31879986752694434, max_depth=21 ..................\n",
      "[CV] ... max_features=0.31879986752694434, max_depth=21, total=   0.3s\n",
      "[CV] max_features=0.31879986752694434, max_depth=21 ..................\n",
      "[CV] ... max_features=0.31879986752694434, max_depth=21, total=   0.4s\n",
      "[CV] max_features=0.31879986752694434, max_depth=21 ..................\n",
      "[CV] ... max_features=0.31879986752694434, max_depth=21, total=   0.3s\n",
      "[CV] max_features=0.31879986752694434, max_depth=21 ..................\n",
      "[CV] ... max_features=0.31879986752694434, max_depth=21, total=   0.3s\n",
      "[CV] max_features=0.31879986752694434, max_depth=21 ..................\n",
      "[CV] ... max_features=0.31879986752694434, max_depth=21, total=   0.5s\n",
      "[CV] max_features=0.604215860143761, max_depth=13 ....................\n",
      "[CV] ..... max_features=0.604215860143761, max_depth=13, total=   0.6s\n",
      "[CV] max_features=0.604215860143761, max_depth=13 ....................\n",
      "[CV] ..... max_features=0.604215860143761, max_depth=13, total=   0.5s\n",
      "[CV] max_features=0.604215860143761, max_depth=13 ....................\n",
      "[CV] ..... max_features=0.604215860143761, max_depth=13, total=   0.5s\n",
      "[CV] max_features=0.604215860143761, max_depth=13 ....................\n",
      "[CV] ..... max_features=0.604215860143761, max_depth=13, total=   0.5s\n",
      "[CV] max_features=0.604215860143761, max_depth=13 ....................\n",
      "[CV] ..... max_features=0.604215860143761, max_depth=13, total=   0.6s\n",
      "[CV] max_features=0.39910841607186176, max_depth=13 ..................\n",
      "[CV] ... max_features=0.39910841607186176, max_depth=13, total=   0.3s\n",
      "[CV] max_features=0.39910841607186176, max_depth=13 ..................\n",
      "[CV] ... max_features=0.39910841607186176, max_depth=13, total=   0.5s\n",
      "[CV] max_features=0.39910841607186176, max_depth=13 ..................\n",
      "[CV] ... max_features=0.39910841607186176, max_depth=13, total=   0.5s\n",
      "[CV] max_features=0.39910841607186176, max_depth=13 ..................\n",
      "[CV] ... max_features=0.39910841607186176, max_depth=13, total=   0.4s\n",
      "[CV] max_features=0.39910841607186176, max_depth=13 ..................\n",
      "[CV] ... max_features=0.39910841607186176, max_depth=13, total=   0.4s\n",
      "[CV] max_features=0.899191178956124, max_depth=14 ....................\n",
      "[CV] ..... max_features=0.899191178956124, max_depth=14, total=   0.8s\n",
      "[CV] max_features=0.899191178956124, max_depth=14 ....................\n",
      "[CV] ..... max_features=0.899191178956124, max_depth=14, total=   0.8s\n",
      "[CV] max_features=0.899191178956124, max_depth=14 ....................\n",
      "[CV] ..... max_features=0.899191178956124, max_depth=14, total=   0.7s\n",
      "[CV] max_features=0.899191178956124, max_depth=14 ....................\n",
      "[CV] ..... max_features=0.899191178956124, max_depth=14, total=   0.7s\n",
      "[CV] max_features=0.899191178956124, max_depth=14 ....................\n",
      "[CV] ..... max_features=0.899191178956124, max_depth=14, total=   0.7s\n",
      "[CV] max_features=0.899191178956124, max_depth=27 ....................\n",
      "[CV] ..... max_features=0.899191178956124, max_depth=27, total=   0.7s\n",
      "[CV] max_features=0.899191178956124, max_depth=27 ....................\n",
      "[CV] ..... max_features=0.899191178956124, max_depth=27, total=   0.6s\n",
      "[CV] max_features=0.899191178956124, max_depth=27 ....................\n",
      "[CV] ..... max_features=0.899191178956124, max_depth=27, total=   0.6s\n",
      "[CV] max_features=0.899191178956124, max_depth=27 ....................\n",
      "[CV] ..... max_features=0.899191178956124, max_depth=27, total=   0.4s\n",
      "[CV] max_features=0.899191178956124, max_depth=27 ....................\n",
      "[CV] ..... max_features=0.899191178956124, max_depth=27, total=   0.4s\n",
      "[CV] max_features=0.899191178956124, max_depth=7 .....................\n",
      "[CV] ...... max_features=0.899191178956124, max_depth=7, total=   0.3s\n",
      "[CV] max_features=0.899191178956124, max_depth=7 .....................\n",
      "[CV] ...... max_features=0.899191178956124, max_depth=7, total=   0.3s\n",
      "[CV] max_features=0.899191178956124, max_depth=7 .....................\n",
      "[CV] ...... max_features=0.899191178956124, max_depth=7, total=   0.3s\n",
      "[CV] max_features=0.899191178956124, max_depth=7 .....................\n",
      "[CV] ...... max_features=0.899191178956124, max_depth=7, total=   0.3s\n",
      "[CV] max_features=0.899191178956124, max_depth=7 .....................\n",
      "[CV] ...... max_features=0.899191178956124, max_depth=7, total=   0.2s\n"
     ]
    },
    {
     "name": "stderr",
     "output_type": "stream",
     "text": [
      "[Parallel(n_jobs=1)]: Done  50 out of  50 | elapsed:   24.6s finished\n"
     ]
    }
   ],
   "source": [
    "from sklearn.model_selection import RandomizedSearchCV\n",
    "\n",
    "results = []\n",
    "for estimator in estimators:\n",
    "    result = []\n",
    "    \n",
    "    \n",
    "    max_depth = np.random.randint(5, 30, 10)\n",
    "    max_features = np.random.uniform(0.3, 1.0, 10)\n",
    "\n",
    "    param_distributions = {'max_depth' : max_depth, 'max_features' : max_features }\n",
    "\n",
    "    regressor = RandomizedSearchCV(estimator,\n",
    "                      param_distributions,\n",
    "                      n_iter=10,\n",
    "                      scoring=None,\n",
    "                      n_jobs=None,\n",
    "                      cv=5,\n",
    "                      verbose=2, \n",
    "                      random_state=42)\n",
    "\n",
    "    regressor.fit(X_train, y_train)\n",
    "    \n",
    "    result.append(estimator.__class__.__name__)\n",
    "    result.append(regressor.best_params_)\n",
    "    result.append(regressor.best_estimator_)\n",
    "    result.append(regressor.best_score_)\n",
    "    result.append(regressor.cv_results_)\n",
    "    results.append(result)"
   ]
  },
  {
   "cell_type": "code",
   "execution_count": 31,
   "metadata": {},
   "outputs": [
    {
     "data": {
      "text/html": [
       "<div>\n",
       "<style scoped>\n",
       "    .dataframe tbody tr th:only-of-type {\n",
       "        vertical-align: middle;\n",
       "    }\n",
       "\n",
       "    .dataframe tbody tr th {\n",
       "        vertical-align: top;\n",
       "    }\n",
       "\n",
       "    .dataframe thead th {\n",
       "        text-align: right;\n",
       "    }\n",
       "</style>\n",
       "<table border=\"1\" class=\"dataframe\">\n",
       "  <thead>\n",
       "    <tr style=\"text-align: right;\">\n",
       "      <th></th>\n",
       "      <th>model</th>\n",
       "      <th>params</th>\n",
       "      <th>estimator</th>\n",
       "      <th>score</th>\n",
       "      <th>cv_result</th>\n",
       "    </tr>\n",
       "  </thead>\n",
       "  <tbody>\n",
       "    <tr>\n",
       "      <th>0</th>\n",
       "      <td>DecisionTreeRegressor</td>\n",
       "      <td>{'max_features': 0.6208600236574925, 'max_dept...</td>\n",
       "      <td>DecisionTreeRegressor(ccp_alpha=0.0, criterion...</td>\n",
       "      <td>-0.026676</td>\n",
       "      <td>{'mean_fit_time': [0.012645435333251954, 0.009...</td>\n",
       "    </tr>\n",
       "    <tr>\n",
       "      <th>1</th>\n",
       "      <td>RandomForestRegressor</td>\n",
       "      <td>{'max_features': 0.7878570676024264, 'max_dept...</td>\n",
       "      <td>(DecisionTreeRegressor(ccp_alpha=0.0, criterio...</td>\n",
       "      <td>0.337769</td>\n",
       "      <td>{'mean_fit_time': [0.5356671333312988, 0.52579...</td>\n",
       "    </tr>\n",
       "    <tr>\n",
       "      <th>2</th>\n",
       "      <td>GradientBoostingRegressor</td>\n",
       "      <td>{'max_features': 0.39910841607186176, 'max_dep...</td>\n",
       "      <td>([DecisionTreeRegressor(ccp_alpha=0.0, criteri...</td>\n",
       "      <td>0.290698</td>\n",
       "      <td>{'mean_fit_time': [0.5961803436279297, 0.53883...</td>\n",
       "    </tr>\n",
       "  </tbody>\n",
       "</table>\n",
       "</div>"
      ],
      "text/plain": [
       "                       model  \\\n",
       "0      DecisionTreeRegressor   \n",
       "1      RandomForestRegressor   \n",
       "2  GradientBoostingRegressor   \n",
       "\n",
       "                                              params  \\\n",
       "0  {'max_features': 0.6208600236574925, 'max_dept...   \n",
       "1  {'max_features': 0.7878570676024264, 'max_dept...   \n",
       "2  {'max_features': 0.39910841607186176, 'max_dep...   \n",
       "\n",
       "                                           estimator     score  \\\n",
       "0  DecisionTreeRegressor(ccp_alpha=0.0, criterion... -0.026676   \n",
       "1  (DecisionTreeRegressor(ccp_alpha=0.0, criterio...  0.337769   \n",
       "2  ([DecisionTreeRegressor(ccp_alpha=0.0, criteri...  0.290698   \n",
       "\n",
       "                                           cv_result  \n",
       "0  {'mean_fit_time': [0.012645435333251954, 0.009...  \n",
       "1  {'mean_fit_time': [0.5356671333312988, 0.52579...  \n",
       "2  {'mean_fit_time': [0.5961803436279297, 0.53883...  "
      ]
     },
     "execution_count": 31,
     "metadata": {},
     "output_type": "execute_result"
    }
   ],
   "source": [
    "df_cv = pd.DataFrame(results)\n",
    "df_cv.columns = ['model', 'params', 'estimator', 'score', 'cv_result']\n",
    "df_cv"
   ]
  },
  {
   "cell_type": "code",
   "execution_count": 34,
   "metadata": {},
   "outputs": [
    {
     "data": {
      "text/plain": [
       "RandomForestRegressor(bootstrap=True, ccp_alpha=0.0, criterion='mse',\n",
       "                      max_depth=10, max_features=0.7878570676024264,\n",
       "                      max_leaf_nodes=None, max_samples=None,\n",
       "                      min_impurity_decrease=0.0, min_impurity_split=None,\n",
       "                      min_samples_leaf=1, min_samples_split=2,\n",
       "                      min_weight_fraction_leaf=0.0, n_estimators=100,\n",
       "                      n_jobs=None, oob_score=False, random_state=42, verbose=0,\n",
       "                      warm_start=False)"
      ]
     },
     "execution_count": 34,
     "metadata": {},
     "output_type": "execute_result"
    }
   ],
   "source": [
    "best_estimator = df_cv.loc[1, 'estimator']\n",
    "best_estimator"
   ]
  },
  {
   "cell_type": "markdown",
   "metadata": {},
   "source": [
    "## 학습(훈련)"
   ]
  },
  {
   "cell_type": "code",
   "execution_count": 39,
   "metadata": {},
   "outputs": [
    {
     "data": {
      "text/plain": [
       "RandomForestRegressor(bootstrap=True, ccp_alpha=0.0, criterion='mse',\n",
       "                      max_depth=10, max_features=0.7878570676024264,\n",
       "                      max_leaf_nodes=None, max_samples=None,\n",
       "                      min_impurity_decrease=0.0, min_impurity_split=None,\n",
       "                      min_samples_leaf=1, min_samples_split=2,\n",
       "                      min_weight_fraction_leaf=0.0, n_estimators=100,\n",
       "                      n_jobs=None, oob_score=False, random_state=42, verbose=0,\n",
       "                      warm_start=False)"
      ]
     },
     "execution_count": 39,
     "metadata": {},
     "output_type": "execute_result"
    }
   ],
   "source": [
    "best_estimator.fit(X_train, y_train)"
   ]
  },
  {
   "cell_type": "markdown",
   "metadata": {},
   "source": [
    "## Cross Validation으로 학습 세트의 오차 측정하기"
   ]
  },
  {
   "cell_type": "code",
   "execution_count": 41,
   "metadata": {},
   "outputs": [
    {
     "name": "stderr",
     "output_type": "stream",
     "text": [
      "[Parallel(n_jobs=-1)]: Using backend LokyBackend with 8 concurrent workers.\n",
      "[Parallel(n_jobs=-1)]: Done   2 out of   5 | elapsed:    7.8s remaining:   11.8s\n",
      "[Parallel(n_jobs=-1)]: Done   5 out of   5 | elapsed:    7.9s remaining:    0.0s\n",
      "[Parallel(n_jobs=-1)]: Done   5 out of   5 | elapsed:    7.9s finished\n"
     ]
    },
    {
     "data": {
      "text/plain": [
       "array([ 47.61030111, 175.69931161,  78.60077778, 139.61544954,\n",
       "       190.00232378])"
      ]
     },
     "execution_count": 41,
     "metadata": {},
     "output_type": "execute_result"
    }
   ],
   "source": [
    "from sklearn.model_selection import cross_val_predict\n",
    "\n",
    "y_predict = cross_val_predict(best_estimator, X_train, y_train, cv=5, verbose=2, n_jobs=-1)\n",
    "y_predict[:5]"
   ]
  },
  {
   "cell_type": "code",
   "execution_count": 42,
   "metadata": {},
   "outputs": [
    {
     "data": {
      "text/plain": [
       "0"
      ]
     },
     "execution_count": 42,
     "metadata": {},
     "output_type": "execute_result"
    }
   ],
   "source": [
    "# 정답을 정확하게 맞춘 개수 394개 중 3개\n",
    "# 이상치 600이상을 제거하고나서는 5개로 증가, OUT 제거는 7\n",
    "\n",
    "(y_predict == y_train).sum()"
   ]
  },
  {
   "cell_type": "code",
   "execution_count": 43,
   "metadata": {},
   "outputs": [
    {
     "data": {
      "text/plain": [
       "370"
      ]
     },
     "execution_count": 43,
     "metadata": {},
     "output_type": "execute_result"
    }
   ],
   "source": [
    "len(y_train)"
   ]
  },
  {
   "cell_type": "code",
   "execution_count": 44,
   "metadata": {
    "scrolled": true
   },
   "outputs": [
    {
     "data": {
      "text/plain": [
       "<matplotlib.axes._subplots.AxesSubplot at 0x2652695ea08>"
      ]
     },
     "execution_count": 44,
     "metadata": {},
     "output_type": "execute_result"
    },
    {
     "data": {
      "image/png": "[encoded data removed]",
      "text/plain": [
       "<Figure size 432x288 with 1 Axes>"
      ]
     },
     "metadata": {
      "needs_background": "light"
     },
     "output_type": "display_data"
    }
   ],
   "source": [
    "sns.regplot(y_train, y_predict)"
   ]
  },
  {
   "cell_type": "code",
   "execution_count": 45,
   "metadata": {},
   "outputs": [
    {
     "data": {
      "text/plain": [
       "0.34815966287026323"
      ]
     },
     "execution_count": 45,
     "metadata": {},
     "output_type": "execute_result"
    }
   ],
   "source": [
    "from sklearn.metrics import r2_score\n",
    "\n",
    "r2_score(y_train, y_predict)"
   ]
  },
  {
   "cell_type": "code",
   "execution_count": 46,
   "metadata": {},
   "outputs": [
    {
     "data": {
      "text/plain": [
       "<matplotlib.axes._subplots.AxesSubplot at 0x265269d1188>"
      ]
     },
     "execution_count": 46,
     "metadata": {},
     "output_type": "execute_result"
    },
    {
     "data": {
      "image/png": "[encoded data removed]",
      "text/plain": [
       "<Figure size 432x288 with 1 Axes>"
      ]
     },
     "metadata": {
      "needs_background": "light"
     },
     "output_type": "display_data"
    }
   ],
   "source": [
    "sns.distplot(y_train, hist=False, label='train')\n",
    "sns.distplot(y_predict, hist=False, label='predict')"
   ]
  },
  {
   "cell_type": "markdown",
   "metadata": {},
   "source": [
    "## 오차 구하기"
   ]
  },
  {
   "cell_type": "code",
   "execution_count": 47,
   "metadata": {},
   "outputs": [
    {
     "data": {
      "text/plain": [
       "44.80468256735728"
      ]
     },
     "execution_count": 47,
     "metadata": {},
     "output_type": "execute_result"
    }
   ],
   "source": [
    "# MAE\n",
    "# 86 -> 77.55(600이상 outlier 삭제) -> 62.056(OUT 제거) -> 44.804(RandomForest)\n",
    "error = abs(y_train - y_predict)\n",
    "error.mean()"
   ]
  },
  {
   "cell_type": "code",
   "execution_count": 48,
   "metadata": {},
   "outputs": [
    {
     "data": {
      "text/plain": [
       "<matplotlib.axes._subplots.AxesSubplot at 0x26526a20948>"
      ]
     },
     "execution_count": 48,
     "metadata": {},
     "output_type": "execute_result"
    },
    {
     "data": {
      "image/png": "[encoded data removed]",
      "text/plain": [
       "<Figure size 432x288 with 1 Axes>"
      ]
     },
     "metadata": {
      "needs_background": "light"
     },
     "output_type": "display_data"
    }
   ],
   "source": [
    "sns.distplot(error)"
   ]
  },
  {
   "cell_type": "code",
   "execution_count": 49,
   "metadata": {},
   "outputs": [
    {
     "data": {
      "text/plain": [
       "count    370.000000\n",
       "mean      44.804683\n",
       "std       39.801551\n",
       "min        0.201618\n",
       "25%       13.578759\n",
       "50%       35.312298\n",
       "75%       65.354112\n",
       "max      223.076276\n",
       "Name: Insulin, dtype: float64"
      ]
     },
     "execution_count": 49,
     "metadata": {},
     "output_type": "execute_result"
    }
   ],
   "source": [
    "error.describe()"
   ]
  },
  {
   "cell_type": "code",
   "execution_count": 50,
   "metadata": {},
   "outputs": [
    {
     "data": {
      "text/plain": [
       "59.894420096016695"
      ]
     },
     "execution_count": 50,
     "metadata": {},
     "output_type": "execute_result"
    }
   ],
   "source": [
    "# RMSE\n",
    "# 126.895 -> 114.077 -> 84.111 -> 59.894\n",
    "\n",
    "np.sqrt(((y_train - y_predict)**2).mean())"
   ]
  },
  {
   "cell_type": "markdown",
   "metadata": {},
   "source": [
    "## 트리 알고리즘 분석하기"
   ]
  },
  {
   "cell_type": "markdown",
   "metadata": {},
   "source": [
    "* 의사결정나무를 시각화 합니다\n",
    "* 피처의 중요도를 구합니다"
   ]
  },
  {
   "cell_type": "code",
   "execution_count": null,
   "metadata": {},
   "outputs": [],
   "source": [
    "from sklearn.tree import plot_tree\n",
    "\n",
    "plt.figure(figsize=(20,20))\n",
    "tree = plot_tree(model, feature_names = feature_names, filled=True, fontsize=10)"
   ]
  },
  {
   "cell_type": "code",
   "execution_count": 52,
   "metadata": {},
   "outputs": [
    {
     "data": {
      "text/plain": [
       "array([0.04566387, 0.4319703 , 0.06828978, 0.09138994, 0.12462714,\n",
       "       0.10451841, 0.10160765, 0.03193291])"
      ]
     },
     "execution_count": 52,
     "metadata": {},
     "output_type": "execute_result"
    }
   ],
   "source": [
    "# 피처의 중요도를 추출하기\n",
    "best_estimator.feature_importances_"
   ]
  },
  {
   "cell_type": "code",
   "execution_count": 53,
   "metadata": {},
   "outputs": [
    {
     "data": {
      "text/plain": [
       "<matplotlib.axes._subplots.AxesSubplot at 0x26526b7d2c8>"
      ]
     },
     "execution_count": 53,
     "metadata": {},
     "output_type": "execute_result"
    },
    {
     "data": {
      "image/png": "[encoded data removed]",
      "text/plain": [
       "<Figure size 432x288 with 1 Axes>"
      ]
     },
     "metadata": {
      "needs_background": "light"
     },
     "output_type": "display_data"
    }
   ],
   "source": [
    "# 피처의 중요도 시각화 하기\n",
    "sns.barplot(x=best_estimator.feature_importances_, y=feature_names)"
   ]
  },
  {
   "cell_type": "markdown",
   "metadata": {},
   "source": [
    "## 예측"
   ]
  },
  {
   "cell_type": "code",
   "execution_count": 54,
   "metadata": {},
   "outputs": [
    {
     "data": {
      "text/plain": [
       "array([188.65200346,  53.46791512, 184.16854762, 148.40936334,\n",
       "       173.67370037])"
      ]
     },
     "execution_count": 54,
     "metadata": {},
     "output_type": "execute_result"
    }
   ],
   "source": [
    "y_test = best_estimator.predict(X_test)\n",
    "y_test[:5]"
   ]
  },
  {
   "cell_type": "code",
   "execution_count": 55,
   "metadata": {},
   "outputs": [
    {
     "data": {
      "text/html": [
       "<div>\n",
       "<style scoped>\n",
       "    .dataframe tbody tr th:only-of-type {\n",
       "        vertical-align: middle;\n",
       "    }\n",
       "\n",
       "    .dataframe tbody tr th {\n",
       "        vertical-align: top;\n",
       "    }\n",
       "\n",
       "    .dataframe thead th {\n",
       "        text-align: right;\n",
       "    }\n",
       "</style>\n",
       "<table border=\"1\" class=\"dataframe\">\n",
       "  <thead>\n",
       "    <tr style=\"text-align: right;\">\n",
       "      <th></th>\n",
       "      <th>count</th>\n",
       "      <th>mean</th>\n",
       "      <th>std</th>\n",
       "      <th>min</th>\n",
       "      <th>25%</th>\n",
       "      <th>50%</th>\n",
       "      <th>75%</th>\n",
       "      <th>max</th>\n",
       "    </tr>\n",
       "    <tr>\n",
       "      <th>Outcome</th>\n",
       "      <th></th>\n",
       "      <th></th>\n",
       "      <th></th>\n",
       "      <th></th>\n",
       "      <th></th>\n",
       "      <th></th>\n",
       "      <th></th>\n",
       "      <th></th>\n",
       "    </tr>\n",
       "  </thead>\n",
       "  <tbody>\n",
       "    <tr>\n",
       "      <th>0</th>\n",
       "      <td>254.0</td>\n",
       "      <td>115.917323</td>\n",
       "      <td>69.844697</td>\n",
       "      <td>15.0</td>\n",
       "      <td>64.25</td>\n",
       "      <td>100.0</td>\n",
       "      <td>151.00</td>\n",
       "      <td>342.0</td>\n",
       "    </tr>\n",
       "    <tr>\n",
       "      <th>1</th>\n",
       "      <td>116.0</td>\n",
       "      <td>169.163793</td>\n",
       "      <td>70.789454</td>\n",
       "      <td>14.0</td>\n",
       "      <td>124.25</td>\n",
       "      <td>160.0</td>\n",
       "      <td>207.75</td>\n",
       "      <td>360.0</td>\n",
       "    </tr>\n",
       "  </tbody>\n",
       "</table>\n",
       "</div>"
      ],
      "text/plain": [
       "         count        mean        std   min     25%    50%     75%    max\n",
       "Outcome                                                                  \n",
       "0        254.0  115.917323  69.844697  15.0   64.25  100.0  151.00  342.0\n",
       "1        116.0  169.163793  70.789454  14.0  124.25  160.0  207.75  360.0"
      ]
     },
     "execution_count": 55,
     "metadata": {},
     "output_type": "execute_result"
    }
   ],
   "source": [
    "train.groupby(\"Outcome\")['Insulin'].describe()"
   ]
  },
  {
   "cell_type": "code",
   "execution_count": 56,
   "metadata": {},
   "outputs": [],
   "source": [
    "test['Insulin'] = y_test"
   ]
  },
  {
   "cell_type": "code",
   "execution_count": 57,
   "metadata": {},
   "outputs": [
    {
     "data": {
      "text/html": [
       "<div>\n",
       "<style scoped>\n",
       "    .dataframe tbody tr th:only-of-type {\n",
       "        vertical-align: middle;\n",
       "    }\n",
       "\n",
       "    .dataframe tbody tr th {\n",
       "        vertical-align: top;\n",
       "    }\n",
       "\n",
       "    .dataframe thead th {\n",
       "        text-align: right;\n",
       "    }\n",
       "</style>\n",
       "<table border=\"1\" class=\"dataframe\">\n",
       "  <thead>\n",
       "    <tr style=\"text-align: right;\">\n",
       "      <th></th>\n",
       "      <th>count</th>\n",
       "      <th>mean</th>\n",
       "      <th>std</th>\n",
       "      <th>min</th>\n",
       "      <th>25%</th>\n",
       "      <th>50%</th>\n",
       "      <th>75%</th>\n",
       "      <th>max</th>\n",
       "    </tr>\n",
       "    <tr>\n",
       "      <th>Outcome</th>\n",
       "      <th></th>\n",
       "      <th></th>\n",
       "      <th></th>\n",
       "      <th></th>\n",
       "      <th></th>\n",
       "      <th></th>\n",
       "      <th></th>\n",
       "      <th></th>\n",
       "    </tr>\n",
       "  </thead>\n",
       "  <tbody>\n",
       "    <tr>\n",
       "      <th>0</th>\n",
       "      <td>236.0</td>\n",
       "      <td>131.197769</td>\n",
       "      <td>46.328895</td>\n",
       "      <td>47.063334</td>\n",
       "      <td>86.898205</td>\n",
       "      <td>138.441065</td>\n",
       "      <td>170.691188</td>\n",
       "      <td>220.807847</td>\n",
       "    </tr>\n",
       "    <tr>\n",
       "      <th>1</th>\n",
       "      <td>138.0</td>\n",
       "      <td>173.561651</td>\n",
       "      <td>31.464275</td>\n",
       "      <td>85.483921</td>\n",
       "      <td>155.021531</td>\n",
       "      <td>173.056647</td>\n",
       "      <td>194.909399</td>\n",
       "      <td>250.998905</td>\n",
       "    </tr>\n",
       "  </tbody>\n",
       "</table>\n",
       "</div>"
      ],
      "text/plain": [
       "         count        mean        std        min         25%         50%  \\\n",
       "Outcome                                                                    \n",
       "0        236.0  131.197769  46.328895  47.063334   86.898205  138.441065   \n",
       "1        138.0  173.561651  31.464275  85.483921  155.021531  173.056647   \n",
       "\n",
       "                75%         max  \n",
       "Outcome                          \n",
       "0        170.691188  220.807847  \n",
       "1        194.909399  250.998905  "
      ]
     },
     "execution_count": 57,
     "metadata": {},
     "output_type": "execute_result"
    }
   ],
   "source": [
    "test.groupby(\"Outcome\")['Insulin'].describe()"
   ]
  },
  {
   "cell_type": "code",
   "execution_count": 58,
   "metadata": {},
   "outputs": [
    {
     "data": {
      "text/plain": [
       "<matplotlib.axes._subplots.AxesSubplot at 0x26526be5908>"
      ]
     },
     "execution_count": 58,
     "metadata": {},
     "output_type": "execute_result"
    },
    {
     "data": {
      "image/png": "[encoded data removed]",
      "text/plain": [
       "<Figure size 432x288 with 1 Axes>"
      ]
     },
     "metadata": {
      "needs_background": "light"
     },
     "output_type": "display_data"
    }
   ],
   "source": [
    "# Outcome에 따른 Insulin의 평균값\n",
    "sns.barplot(data=train, x='Outcome', y='Insulin')"
   ]
  },
  {
   "cell_type": "code",
   "execution_count": 59,
   "metadata": {},
   "outputs": [
    {
     "data": {
      "text/plain": [
       "<matplotlib.axes._subplots.AxesSubplot at 0x26526c6c708>"
      ]
     },
     "execution_count": 59,
     "metadata": {},
     "output_type": "execute_result"
    },
    {
     "data": {
      "image/png": "[encoded data removed]",
      "text/plain": [
       "<Figure size 432x288 with 1 Axes>"
      ]
     },
     "metadata": {
      "needs_background": "light"
     },
     "output_type": "display_data"
    }
   ],
   "source": [
    "# 예측값에 대한 시각화\n",
    "sns.barplot(data=test, x='Outcome', y='Insulin')"
   ]
  },
  {
   "cell_type": "markdown",
   "metadata": {},
   "source": [
    "## 예측값을 CSV 파일로 저장하기"
   ]
  },
  {
   "cell_type": "code",
   "execution_count": 60,
   "metadata": {},
   "outputs": [
    {
     "data": {
      "text/plain": [
       "0      0\n",
       "1      0\n",
       "2      0\n",
       "5      0\n",
       "7      0\n",
       "      ..\n",
       "761    0\n",
       "762    0\n",
       "764    0\n",
       "766    0\n",
       "767    0\n",
       "Name: Insulin, Length: 374, dtype: int64"
      ]
     },
     "execution_count": 60,
     "metadata": {},
     "output_type": "execute_result"
    }
   ],
   "source": [
    "df.loc[df['Insulin']==0, 'Insulin']"
   ]
  },
  {
   "cell_type": "code",
   "execution_count": 61,
   "metadata": {},
   "outputs": [
    {
     "data": {
      "text/plain": [
       "0      188.652003\n",
       "1       53.467915\n",
       "2      184.168548\n",
       "5      148.409363\n",
       "7      173.673700\n",
       "          ...    \n",
       "761    201.551630\n",
       "762     72.096584\n",
       "764    157.728973\n",
       "766    163.080322\n",
       "767     77.651867\n",
       "Name: Insulin, Length: 374, dtype: float64"
      ]
     },
     "execution_count": 61,
     "metadata": {},
     "output_type": "execute_result"
    }
   ],
   "source": [
    "test['Insulin']"
   ]
  },
  {
   "cell_type": "code",
   "execution_count": 62,
   "metadata": {},
   "outputs": [],
   "source": [
    "df.loc[df['Insulin'] == 0, 'Insulin'] = test['Insulin']"
   ]
  },
  {
   "cell_type": "code",
   "execution_count": 63,
   "metadata": {},
   "outputs": [
    {
     "data": {
      "text/html": [
       "<div>\n",
       "<style scoped>\n",
       "    .dataframe tbody tr th:only-of-type {\n",
       "        vertical-align: middle;\n",
       "    }\n",
       "\n",
       "    .dataframe tbody tr th {\n",
       "        vertical-align: top;\n",
       "    }\n",
       "\n",
       "    .dataframe thead th {\n",
       "        text-align: right;\n",
       "    }\n",
       "</style>\n",
       "<table border=\"1\" class=\"dataframe\">\n",
       "  <thead>\n",
       "    <tr style=\"text-align: right;\">\n",
       "      <th></th>\n",
       "      <th>Pregnancies</th>\n",
       "      <th>Glucose</th>\n",
       "      <th>BloodPressure</th>\n",
       "      <th>SkinThickness</th>\n",
       "      <th>Insulin</th>\n",
       "      <th>BMI</th>\n",
       "      <th>DiabetesPedigreeFunction</th>\n",
       "      <th>Age</th>\n",
       "      <th>Outcome</th>\n",
       "    </tr>\n",
       "  </thead>\n",
       "  <tbody>\n",
       "    <tr>\n",
       "      <th>0</th>\n",
       "      <td>6</td>\n",
       "      <td>148</td>\n",
       "      <td>72</td>\n",
       "      <td>35</td>\n",
       "      <td>188.652003</td>\n",
       "      <td>33.6</td>\n",
       "      <td>0.627</td>\n",
       "      <td>50</td>\n",
       "      <td>1</td>\n",
       "    </tr>\n",
       "    <tr>\n",
       "      <th>1</th>\n",
       "      <td>1</td>\n",
       "      <td>85</td>\n",
       "      <td>66</td>\n",
       "      <td>29</td>\n",
       "      <td>53.467915</td>\n",
       "      <td>26.6</td>\n",
       "      <td>0.351</td>\n",
       "      <td>31</td>\n",
       "      <td>0</td>\n",
       "    </tr>\n",
       "    <tr>\n",
       "      <th>2</th>\n",
       "      <td>8</td>\n",
       "      <td>183</td>\n",
       "      <td>64</td>\n",
       "      <td>0</td>\n",
       "      <td>184.168548</td>\n",
       "      <td>23.3</td>\n",
       "      <td>0.672</td>\n",
       "      <td>32</td>\n",
       "      <td>1</td>\n",
       "    </tr>\n",
       "    <tr>\n",
       "      <th>3</th>\n",
       "      <td>1</td>\n",
       "      <td>89</td>\n",
       "      <td>66</td>\n",
       "      <td>23</td>\n",
       "      <td>94.000000</td>\n",
       "      <td>28.1</td>\n",
       "      <td>0.167</td>\n",
       "      <td>21</td>\n",
       "      <td>0</td>\n",
       "    </tr>\n",
       "    <tr>\n",
       "      <th>4</th>\n",
       "      <td>0</td>\n",
       "      <td>137</td>\n",
       "      <td>40</td>\n",
       "      <td>35</td>\n",
       "      <td>168.000000</td>\n",
       "      <td>43.1</td>\n",
       "      <td>2.288</td>\n",
       "      <td>33</td>\n",
       "      <td>1</td>\n",
       "    </tr>\n",
       "    <tr>\n",
       "      <th>...</th>\n",
       "      <td>...</td>\n",
       "      <td>...</td>\n",
       "      <td>...</td>\n",
       "      <td>...</td>\n",
       "      <td>...</td>\n",
       "      <td>...</td>\n",
       "      <td>...</td>\n",
       "      <td>...</td>\n",
       "      <td>...</td>\n",
       "    </tr>\n",
       "    <tr>\n",
       "      <th>763</th>\n",
       "      <td>10</td>\n",
       "      <td>101</td>\n",
       "      <td>76</td>\n",
       "      <td>48</td>\n",
       "      <td>180.000000</td>\n",
       "      <td>32.9</td>\n",
       "      <td>0.171</td>\n",
       "      <td>63</td>\n",
       "      <td>0</td>\n",
       "    </tr>\n",
       "    <tr>\n",
       "      <th>764</th>\n",
       "      <td>2</td>\n",
       "      <td>122</td>\n",
       "      <td>70</td>\n",
       "      <td>27</td>\n",
       "      <td>157.728973</td>\n",
       "      <td>36.8</td>\n",
       "      <td>0.340</td>\n",
       "      <td>27</td>\n",
       "      <td>0</td>\n",
       "    </tr>\n",
       "    <tr>\n",
       "      <th>765</th>\n",
       "      <td>5</td>\n",
       "      <td>121</td>\n",
       "      <td>72</td>\n",
       "      <td>23</td>\n",
       "      <td>112.000000</td>\n",
       "      <td>26.2</td>\n",
       "      <td>0.245</td>\n",
       "      <td>30</td>\n",
       "      <td>0</td>\n",
       "    </tr>\n",
       "    <tr>\n",
       "      <th>766</th>\n",
       "      <td>1</td>\n",
       "      <td>126</td>\n",
       "      <td>60</td>\n",
       "      <td>0</td>\n",
       "      <td>163.080322</td>\n",
       "      <td>30.1</td>\n",
       "      <td>0.349</td>\n",
       "      <td>47</td>\n",
       "      <td>1</td>\n",
       "    </tr>\n",
       "    <tr>\n",
       "      <th>767</th>\n",
       "      <td>1</td>\n",
       "      <td>93</td>\n",
       "      <td>70</td>\n",
       "      <td>31</td>\n",
       "      <td>77.651867</td>\n",
       "      <td>30.4</td>\n",
       "      <td>0.315</td>\n",
       "      <td>23</td>\n",
       "      <td>0</td>\n",
       "    </tr>\n",
       "  </tbody>\n",
       "</table>\n",
       "<p>768 rows × 9 columns</p>\n",
       "</div>"
      ],
      "text/plain": [
       "     Pregnancies  Glucose  BloodPressure  SkinThickness     Insulin   BMI  \\\n",
       "0              6      148             72             35  188.652003  33.6   \n",
       "1              1       85             66             29   53.467915  26.6   \n",
       "2              8      183             64              0  184.168548  23.3   \n",
       "3              1       89             66             23   94.000000  28.1   \n",
       "4              0      137             40             35  168.000000  43.1   \n",
       "..           ...      ...            ...            ...         ...   ...   \n",
       "763           10      101             76             48  180.000000  32.9   \n",
       "764            2      122             70             27  157.728973  36.8   \n",
       "765            5      121             72             23  112.000000  26.2   \n",
       "766            1      126             60              0  163.080322  30.1   \n",
       "767            1       93             70             31   77.651867  30.4   \n",
       "\n",
       "     DiabetesPedigreeFunction  Age  Outcome  \n",
       "0                       0.627   50        1  \n",
       "1                       0.351   31        0  \n",
       "2                       0.672   32        1  \n",
       "3                       0.167   21        0  \n",
       "4                       2.288   33        1  \n",
       "..                        ...  ...      ...  \n",
       "763                     0.171   63        0  \n",
       "764                     0.340   27        0  \n",
       "765                     0.245   30        0  \n",
       "766                     0.349   47        1  \n",
       "767                     0.315   23        0  \n",
       "\n",
       "[768 rows x 9 columns]"
      ]
     },
     "execution_count": 63,
     "metadata": {},
     "output_type": "execute_result"
    }
   ],
   "source": [
    "df # 원래 Insulin이 0이었는데, 우리가 예측한 값으로 채워졌다."
   ]
  },
  {
   "cell_type": "code",
   "execution_count": 66,
   "metadata": {},
   "outputs": [],
   "source": [
    "df.to_csv('data/diabetes_fill_insulin.csv', index=False)"
   ]
  },
  {
   "cell_type": "code",
   "execution_count": 67,
   "metadata": {},
   "outputs": [
    {
     "data": {
      "text/html": [
       "<div>\n",
       "<style scoped>\n",
       "    .dataframe tbody tr th:only-of-type {\n",
       "        vertical-align: middle;\n",
       "    }\n",
       "\n",
       "    .dataframe tbody tr th {\n",
       "        vertical-align: top;\n",
       "    }\n",
       "\n",
       "    .dataframe thead th {\n",
       "        text-align: right;\n",
       "    }\n",
       "</style>\n",
       "<table border=\"1\" class=\"dataframe\">\n",
       "  <thead>\n",
       "    <tr style=\"text-align: right;\">\n",
       "      <th></th>\n",
       "      <th>Pregnancies</th>\n",
       "      <th>Glucose</th>\n",
       "      <th>BloodPressure</th>\n",
       "      <th>SkinThickness</th>\n",
       "      <th>Insulin</th>\n",
       "      <th>BMI</th>\n",
       "      <th>DiabetesPedigreeFunction</th>\n",
       "      <th>Age</th>\n",
       "      <th>Outcome</th>\n",
       "    </tr>\n",
       "  </thead>\n",
       "  <tbody>\n",
       "    <tr>\n",
       "      <th>0</th>\n",
       "      <td>6</td>\n",
       "      <td>148</td>\n",
       "      <td>72</td>\n",
       "      <td>35</td>\n",
       "      <td>188.652003</td>\n",
       "      <td>33.6</td>\n",
       "      <td>0.627</td>\n",
       "      <td>50</td>\n",
       "      <td>1</td>\n",
       "    </tr>\n",
       "    <tr>\n",
       "      <th>1</th>\n",
       "      <td>1</td>\n",
       "      <td>85</td>\n",
       "      <td>66</td>\n",
       "      <td>29</td>\n",
       "      <td>53.467915</td>\n",
       "      <td>26.6</td>\n",
       "      <td>0.351</td>\n",
       "      <td>31</td>\n",
       "      <td>0</td>\n",
       "    </tr>\n",
       "    <tr>\n",
       "      <th>2</th>\n",
       "      <td>8</td>\n",
       "      <td>183</td>\n",
       "      <td>64</td>\n",
       "      <td>0</td>\n",
       "      <td>184.168548</td>\n",
       "      <td>23.3</td>\n",
       "      <td>0.672</td>\n",
       "      <td>32</td>\n",
       "      <td>1</td>\n",
       "    </tr>\n",
       "    <tr>\n",
       "      <th>3</th>\n",
       "      <td>1</td>\n",
       "      <td>89</td>\n",
       "      <td>66</td>\n",
       "      <td>23</td>\n",
       "      <td>94.000000</td>\n",
       "      <td>28.1</td>\n",
       "      <td>0.167</td>\n",
       "      <td>21</td>\n",
       "      <td>0</td>\n",
       "    </tr>\n",
       "    <tr>\n",
       "      <th>4</th>\n",
       "      <td>0</td>\n",
       "      <td>137</td>\n",
       "      <td>40</td>\n",
       "      <td>35</td>\n",
       "      <td>168.000000</td>\n",
       "      <td>43.1</td>\n",
       "      <td>2.288</td>\n",
       "      <td>33</td>\n",
       "      <td>1</td>\n",
       "    </tr>\n",
       "    <tr>\n",
       "      <th>...</th>\n",
       "      <td>...</td>\n",
       "      <td>...</td>\n",
       "      <td>...</td>\n",
       "      <td>...</td>\n",
       "      <td>...</td>\n",
       "      <td>...</td>\n",
       "      <td>...</td>\n",
       "      <td>...</td>\n",
       "      <td>...</td>\n",
       "    </tr>\n",
       "    <tr>\n",
       "      <th>763</th>\n",
       "      <td>10</td>\n",
       "      <td>101</td>\n",
       "      <td>76</td>\n",
       "      <td>48</td>\n",
       "      <td>180.000000</td>\n",
       "      <td>32.9</td>\n",
       "      <td>0.171</td>\n",
       "      <td>63</td>\n",
       "      <td>0</td>\n",
       "    </tr>\n",
       "    <tr>\n",
       "      <th>764</th>\n",
       "      <td>2</td>\n",
       "      <td>122</td>\n",
       "      <td>70</td>\n",
       "      <td>27</td>\n",
       "      <td>157.728973</td>\n",
       "      <td>36.8</td>\n",
       "      <td>0.340</td>\n",
       "      <td>27</td>\n",
       "      <td>0</td>\n",
       "    </tr>\n",
       "    <tr>\n",
       "      <th>765</th>\n",
       "      <td>5</td>\n",
       "      <td>121</td>\n",
       "      <td>72</td>\n",
       "      <td>23</td>\n",
       "      <td>112.000000</td>\n",
       "      <td>26.2</td>\n",
       "      <td>0.245</td>\n",
       "      <td>30</td>\n",
       "      <td>0</td>\n",
       "    </tr>\n",
       "    <tr>\n",
       "      <th>766</th>\n",
       "      <td>1</td>\n",
       "      <td>126</td>\n",
       "      <td>60</td>\n",
       "      <td>0</td>\n",
       "      <td>163.080322</td>\n",
       "      <td>30.1</td>\n",
       "      <td>0.349</td>\n",
       "      <td>47</td>\n",
       "      <td>1</td>\n",
       "    </tr>\n",
       "    <tr>\n",
       "      <th>767</th>\n",
       "      <td>1</td>\n",
       "      <td>93</td>\n",
       "      <td>70</td>\n",
       "      <td>31</td>\n",
       "      <td>77.651867</td>\n",
       "      <td>30.4</td>\n",
       "      <td>0.315</td>\n",
       "      <td>23</td>\n",
       "      <td>0</td>\n",
       "    </tr>\n",
       "  </tbody>\n",
       "</table>\n",
       "<p>768 rows × 9 columns</p>\n",
       "</div>"
      ],
      "text/plain": [
       "     Pregnancies  Glucose  BloodPressure  SkinThickness     Insulin   BMI  \\\n",
       "0              6      148             72             35  188.652003  33.6   \n",
       "1              1       85             66             29   53.467915  26.6   \n",
       "2              8      183             64              0  184.168548  23.3   \n",
       "3              1       89             66             23   94.000000  28.1   \n",
       "4              0      137             40             35  168.000000  43.1   \n",
       "..           ...      ...            ...            ...         ...   ...   \n",
       "763           10      101             76             48  180.000000  32.9   \n",
       "764            2      122             70             27  157.728973  36.8   \n",
       "765            5      121             72             23  112.000000  26.2   \n",
       "766            1      126             60              0  163.080322  30.1   \n",
       "767            1       93             70             31   77.651867  30.4   \n",
       "\n",
       "     DiabetesPedigreeFunction  Age  Outcome  \n",
       "0                       0.627   50        1  \n",
       "1                       0.351   31        0  \n",
       "2                       0.672   32        1  \n",
       "3                       0.167   21        0  \n",
       "4                       2.288   33        1  \n",
       "..                        ...  ...      ...  \n",
       "763                     0.171   63        0  \n",
       "764                     0.340   27        0  \n",
       "765                     0.245   30        0  \n",
       "766                     0.349   47        1  \n",
       "767                     0.315   23        0  \n",
       "\n",
       "[768 rows x 9 columns]"
      ]
     },
     "execution_count": 67,
     "metadata": {},
     "output_type": "execute_result"
    }
   ],
   "source": [
    "pd.read_csv('data/diabetes_fill_insulin.csv')"
   ]
  },
  {
   "cell_type": "code",
   "execution_count": null,
   "metadata": {},
   "outputs": [],
   "source": []
  }
 ],
 "metadata": {
  "kernelspec": {
   "display_name": "Python 3",
   "language": "python",
   "name": "python3"
  },
  "language_info": {
   "codemirror_mode": {
    "name": "ipython",
    "version": 3
   },
   "file_extension": ".py",
   "mimetype": "text/x-python",
   "name": "python",
   "nbconvert_exporter": "python",
   "pygments_lexer": "ipython3",
   "version": "3.7.6"
  },
  "toc": {
   "base_numbering": 1,
   "nav_menu": {},
   "number_sections": true,
   "sideBar": true,
   "skip_h1_title": false,
   "title_cell": "Table of Contents",
   "title_sidebar": "Contents",
   "toc_cell": false,
   "toc_position": {},
   "toc_section_display": true,
   "toc_window_display": false
  }
 },
 "nbformat": 4,
 "nbformat_minor": 4
}
